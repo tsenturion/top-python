{
  "cells": [
    {
      "cell_type": "markdown",
      "id": "6680f1be",
      "metadata": {
        "id": "6680f1be"
      },
      "source": [
        "## **Воркшоп по API**"
      ]
    },
    {
      "cell_type": "markdown",
      "id": "dcccfa98",
      "metadata": {
        "id": "dcccfa98"
      },
      "source": [
        "### **Работа с ТВ-шоу через REST API**"
      ]
    },
    {
      "cell_type": "markdown",
      "id": "f3ac1c69",
      "metadata": {
        "id": "f3ac1c69"
      },
      "source": [
        "https://api.tvmaze.com - публичный API с данными о ТВ-шоу, сериалах и актерах"
      ]
    },
    {
      "cell_type": "markdown",
      "id": "929979ff",
      "metadata": {
        "id": "929979ff"
      },
      "source": [
        "#### **Задание № 1**"
      ]
    },
    {
      "cell_type": "markdown",
      "id": "67b826b0",
      "metadata": {
        "id": "67b826b0"
      },
      "source": [
        "С помощью TVMaze API выгрузите данные о всех имеющихся шоу со страницы с индексом 0. Постройте гистограмму, показывающую распределение шоу по годам премьеры. Проанализируйте гистограмму и сделайте выводы."
      ]
    },
    {
      "cell_type": "code",
      "execution_count": 1,
      "id": "fe0ba646",
      "metadata": {
        "id": "fe0ba646"
      },
      "outputs": [],
      "source": [
        "# подключаем необходимые библиотеки\n",
        "import requests\n",
        "import pandas as pd\n",
        "import matplotlib.pyplot as plt"
      ]
    },
    {
      "cell_type": "code",
      "execution_count": 2,
      "id": "624d0ba6",
      "metadata": {
        "id": "624d0ba6"
      },
      "outputs": [],
      "source": [
        "# URL для получения данных о всех ТВ-шоу со страницы с индексом 0\n",
        "url = \"https://api.tvmaze.com/shows?page=0\""
      ]
    },
    {
      "cell_type": "code",
      "execution_count": 3,
      "id": "6f57091c",
      "metadata": {
        "id": "6f57091c"
      },
      "outputs": [],
      "source": [
        "# отправляем GET-запрос и получаем ответ в формате JSON\n",
        "response = requests.get(url)\n",
        "data = response.json()\n",
        "# преобразуем JSON в список\n",
        "shows_list = list(data)"
      ]
    },
    {
      "cell_type": "code",
      "execution_count": 4,
      "id": "b565f5e6",
      "metadata": {
        "colab": {
          "base_uri": "https://localhost:8080/"
        },
        "id": "b565f5e6",
        "outputId": "a6afe170-12e5-414e-beb8-deddb8d971e2"
      },
      "outputs": [
        {
          "name": "stdout",
          "output_type": "stream",
          "text": [
            "Названия всех шоу:\n",
            "Under the Dome\n",
            "Person of Interest\n",
            "Bitten\n",
            "Arrow\n",
            "True Detective\n",
            "The 100\n",
            "Homeland\n",
            "Glee\n",
            "Revenge\n",
            "Grimm\n",
            "Gotham\n",
            "Lost Girl\n",
            "The Flash\n",
            "Continuum\n",
            "Constantine\n",
            "Penny Dreadful\n",
            "The Amazing Race\n",
            "Supernatural\n",
            "The Strain\n",
            "The Last Ship\n",
            "True Blood\n",
            "Once Upon a Time in Wonderland\n",
            "Hawaii Five-0\n",
            "Hellsing\n",
            "Hellsing Ultimate\n",
            "Berserk\n",
            "Californication\n",
            "Vikings\n",
            "American Horror Story\n",
            "Marvel's Agents of S.H.I.E.L.D.\n",
            "Fargo\n",
            "Hemlock Grove\n",
            "Helix\n",
            "The Killing\n",
            "Intruders\n",
            "Z Nation\n",
            "Resurrection\n",
            "Death Note\n",
            "Last Man Standing\n",
            "Sleepy Hollow\n",
            "Outlander\n",
            "Scorpion\n",
            "NCIS: New Orleans\n",
            "Forever\n",
            "Witches of East End\n",
            "Madam Secretary\n",
            "Brooklyn Nine-Nine\n",
            "The Lottery\n",
            "The Knick\n",
            "How to Get Away with Murder\n",
            "Nashville\n",
            "Legends\n",
            "Red Band Society\n",
            "Chicago P.D.\n",
            "black-ish\n",
            "New Girl\n",
            "Chicago Fire\n",
            "NCIS\n",
            "Orphan Black\n",
            "The Originals\n",
            "The Vampire Diaries\n",
            "Utopia\n",
            "Bones\n",
            "The Big Bang Theory\n",
            "Grey's Anatomy\n",
            "Castle\n",
            "The Blacklist\n",
            "The Voice\n",
            "Dancing with the Stars\n",
            "NCIS: Los Angeles\n",
            "The Walking Dead\n",
            "Hell on Wheels\n",
            "The Mindy Project\n",
            "Sons of Anarchy\n",
            "The Middle\n",
            "The Mysteries of Laura\n",
            "The Goldbergs\n",
            "Modern Family\n",
            "Criminal Minds\n",
            "Game of Thrones\n",
            "The Simpsons\n",
            "Family Guy\n",
            "Stalker\n",
            "The Bridge\n",
            "Reign\n",
            "Unforgettable\n",
            "Haven\n",
            "Bad Judge\n",
            "A to Z\n",
            "Parenthood\n",
            "Defiance\n",
            "Falling Skies\n",
            "Manhattan Love Story\n",
            "The Biggest Loser\n",
            "Scandal\n",
            "America's Next Top Model\n",
            "Blue Bloods\n",
            "The Good Wife\n",
            "Boardwalk Empire\n",
            "Law & Order: Special Victims Unit\n",
            "Dominion\n",
            "From Dusk Till Dawn: The Series\n",
            "Justified\n",
            "Bob's Burgers\n",
            "Mulaney\n",
            "CSI: Crime Scene Investigation\n",
            "Gracepoint\n",
            "Once Upon a Time\n",
            "South Park\n",
            "Survivor\n",
            "King of the Hill\n",
            "The Mentalist\n",
            "Star Wars: Rebels\n",
            "House\n",
            "Transparent\n",
            "Nikita\n",
            "Lost\n",
            "2 Broke Girls\n",
            "Selfie\n",
            "Mom\n",
            "The Affair\n",
            "Jane the Virgin\n",
            "Marry Me\n",
            "Two and a Half Men\n",
            "About a Boy\n",
            "The Millers\n",
            "Elementary\n",
            "Heroes\n",
            "The McCarthys\n",
            "Cristela\n",
            "The Leftovers\n",
            "Girls\n",
            "Looking\n",
            "Getting On\n",
            "Veep\n",
            "Silicon Valley\n",
            "The Comeback\n",
            "House of Lies\n",
            "Episodes\n",
            "Nurse Jackie\n",
            "Web Therapy\n",
            "Masters of Sex\n",
            "Shameless\n",
            "The Newsroom\n",
            "Ray Donovan\n",
            "Utopia\n",
            "Sanctuary\n",
            "Beauty & the Beast\n",
            "Twin Peaks\n",
            "The Americans\n",
            "Fringe\n",
            "State of Affairs\n",
            "Weeds\n",
            "Dexter\n",
            "Carnivàle\n",
            "Human Target\n",
            "Banshee\n",
            "Bionic Woman\n",
            "Battlestar Galactica\n",
            "24\n",
            "Chuck\n",
            "Breaking Bad\n",
            "Orange Is the New Black\n",
            "How I Met Your Mother\n",
            "Suits\n",
            "Parks and Recreation\n",
            "House of Cards\n",
            "Teen Wolf\n",
            "Pretty Little Liars\n",
            "The Legend of Korra\n",
            "The Wire\n",
            "Firefly\n",
            "Extant\n",
            "Black Sails\n",
            "Tyrant\n",
            "BoJack Horseman\n",
            "Salem\n",
            "TURN: Washington's Spies\n",
            "Intelligence\n",
            "Believe\n",
            "Star-Crossed\n",
            "Crisis\n",
            "Halt and Catch Fire\n",
            "Hello Ladies\n",
            "Dads\n",
            "Hannibal\n",
            "Bates Motel\n",
            "The Following\n",
            "Da Vinci's Demons\n",
            "The Fosters\n",
            "Mistresses\n",
            "The Tomorrow People\n",
            "Devious Maids\n",
            "Almost Human\n",
            "The Carrie Diaries\n",
            "Stargate SG-1\n",
            "Graceland\n",
            "Stargate Atlantis\n",
            "Stargate Universe\n",
            "The Chair\n",
            "Survivor's Remorse\n",
            "Doctor Who\n",
            "666 Park Avenue\n",
            "Alcatraz\n",
            "The Gates\n",
            "Kingdom\n",
            "American Dad!\n",
            "Rick and Morty\n",
            "Hostages\n",
            "Being Human\n",
            "Alphas\n",
            "Crossing Lines\n",
            "Rectify\n",
            "Happyland\n",
            "Twisted\n",
            "Ravenswood\n",
            "The Crazy Ones\n",
            "Mob City\n",
            "Last Resort\n",
            "The Neighbors\n",
            "Go On\n",
            "Vegas\n",
            "The River\n",
            "Awake\n",
            "Missing\n",
            "The New Normal\n",
            "GCB\n",
            "Revolution\n",
            "Dallas\n",
            "Anger Management\n",
            "Cops\n",
            "Benched\n",
            "The Great Fire\n",
            "Conan\n",
            "Strange Empire\n",
            "Town of the Living Dead\n",
            "Long Shadow\n",
            "The Colbert Report\n",
            "Transporter: The Series\n",
            "The Daily Show with Jon Stewart\n"
          ]
        }
      ],
      "source": [
        "# выводим на экран названия всех шоу\n",
        "print(\"Названия всех шоу:\")\n",
        "for show in shows_list:\n",
        "    print(show['name'])"
      ]
    },
    {
      "cell_type": "code",
      "execution_count": 5,
      "id": "47c07358",
      "metadata": {
        "id": "47c07358"
      },
      "outputs": [],
      "source": [
        "# создаем DataFrame на основании полученного списка\n",
        "df = pd.DataFrame(shows_list)"
      ]
    },
    {
      "cell_type": "code",
      "execution_count": 6,
      "id": "cf479554",
      "metadata": {
        "colab": {
          "base_uri": "https://localhost:8080/"
        },
        "id": "cf479554",
        "outputId": "8074fd3d-b708-4a29-f104-4015dcfba1e4"
      },
      "outputs": [
        {
          "name": "stdout",
          "output_type": "stream",
          "text": [
            "Информация о DataFrame:\n",
            "<class 'pandas.core.frame.DataFrame'>\n",
            "RangeIndex: 240 entries, 0 to 239\n",
            "Data columns (total 23 columns):\n",
            " #   Column          Non-Null Count  Dtype  \n",
            "---  ------          --------------  -----  \n",
            " 0   id              240 non-null    int64  \n",
            " 1   url             240 non-null    object \n",
            " 2   name            240 non-null    object \n",
            " 3   type            240 non-null    object \n",
            " 4   language        240 non-null    object \n",
            " 5   genres          240 non-null    object \n",
            " 6   status          240 non-null    object \n",
            " 7   runtime         229 non-null    float64\n",
            " 8   averageRuntime  240 non-null    int64  \n",
            " 9   premiered       240 non-null    object \n",
            " 10  ended           218 non-null    object \n",
            " 11  officialSite    167 non-null    object \n",
            " 12  schedule        240 non-null    object \n",
            " 13  rating          240 non-null    object \n",
            " 14  weight          240 non-null    int64  \n",
            " 15  network         229 non-null    object \n",
            " 16  webChannel      14 non-null     object \n",
            " 17  dvdCountry      1 non-null      object \n",
            " 18  externals       240 non-null    object \n",
            " 19  image           240 non-null    object \n",
            " 20  summary         240 non-null    object \n",
            " 21  updated         240 non-null    int64  \n",
            " 22  _links          240 non-null    object \n",
            "dtypes: float64(1), int64(4), object(18)\n",
            "memory usage: 43.3+ KB\n",
            "None\n"
          ]
        }
      ],
      "source": [
        "# выводим общую информацию о датафрейме\n",
        "print(\"Информация о DataFrame:\")\n",
        "print(df.info())"
      ]
    },
    {
      "cell_type": "code",
      "execution_count": 7,
      "id": "c5d92f78",
      "metadata": {
        "id": "c5d92f78"
      },
      "outputs": [],
      "source": [
        "# создаем серию с годами выхода всех шоу\n",
        "df['premiere_year'] = pd.to_datetime(df['premiered'], errors='coerce').dt.year"
      ]
    },
    {
      "cell_type": "code",
      "execution_count": 8,
      "id": "db1099da",
      "metadata": {
        "colab": {
          "base_uri": "https://localhost:8080/",
          "height": 607
        },
        "id": "db1099da",
        "outputId": "d515ee59-4a17-4f92-c787-4aca937cf08f"
      },
      "outputs": [
        {
          "data": {
            "image/png": "[encoded data removed]",
            "text/plain": [
              "<Figure size 1200x600 with 1 Axes>"
            ]
          },
          "metadata": {},
          "output_type": "display_data"
        }
      ],
      "source": [
        "# строим гистограмму с распределением шоу по годам премьеры\n",
        "plt.figure(figsize=(12, 6))\n",
        "df['premiere_year'].dropna().astype(int).value_counts().sort_index().plot(kind='bar')\n",
        "plt.title('Распределение ТВ-шоу по годам премьеры')\n",
        "plt.xlabel('Год премьеры')\n",
        "plt.ylabel('Количество шоу')\n",
        "plt.grid(axis='y')\n",
        "plt.tight_layout()\n",
        "plt.show()"
      ]
    },
    {
      "cell_type": "markdown",
      "id": "6d98a5de",
      "metadata": {
        "id": "6d98a5de"
      },
      "source": [
        "**Выводы по графику**:"
      ]
    },
    {
      "cell_type": "markdown",
      "id": "60d5248e",
      "metadata": {
        "id": "60d5248e"
      },
      "source": [
        "#### **Задание № 2**"
      ]
    },
    {
      "cell_type": "markdown",
      "id": "ef6ceb03",
      "metadata": {
        "id": "ef6ceb03"
      },
      "source": [
        "С помощью TVMaze API выгрузите все данные о шоу, где в названии есть слово \"друзья\" (friends). На основании полученных данных постройте Sunburst-диаграмму с иерархией Язык → Жанр → Название."
      ]
    },
    {
      "cell_type": "code",
      "execution_count": 9,
      "id": "dc3f9b80",
      "metadata": {
        "id": "dc3f9b80"
      },
      "outputs": [],
      "source": [
        "# подключаем Plotly для построения Sunburst-диаграммы\n",
        "import requests\n",
        "import pandas as pd\n",
        "import plotly.express as px"
      ]
    },
    {
      "cell_type": "code",
      "execution_count": 10,
      "id": "d92b2f55",
      "metadata": {
        "id": "d92b2f55"
      },
      "outputs": [],
      "source": [
        "# URL для получения списка ТВ-шоу, где в названии есть слово \"друзья (friends)\"\n",
        "url = \"https://api.tvmaze.com/search/shows?q=friends\""
      ]
    },
    {
      "cell_type": "code",
      "execution_count": 11,
      "id": "14977f53",
      "metadata": {
        "id": "14977f53"
      },
      "outputs": [],
      "source": [
        "# отправляем GET-запрос и получаем ответ в формате JSON\n",
        "response = requests.get(url)\n",
        "if response.status_code != 200:\n",
        "    raise Exception(f\"Ошибка при запросе: {response.status_code}\")\n",
        "\n",
        "data = response.json()\n",
        "# преобразуем JSON в список\n",
        "shows_list = list(data)"
      ]
    },
    {
      "cell_type": "code",
      "execution_count": 12,
      "id": "81b22867",
      "metadata": {
        "colab": {
          "base_uri": "https://localhost:8080/"
        },
        "id": "81b22867",
        "outputId": "e4a767d6-b083-4526-a2c8-197763d457bc"
      },
      "outputs": [
        {
          "name": "stdout",
          "output_type": "stream",
          "text": [
            "Количество шоу с 'friends' в названии: 10\n"
          ]
        }
      ],
      "source": [
        "# выводим на экран количество выгруженных шоу\n",
        "print(f\"Количество шоу с 'friends' в названии: {len(shows_list)}\")"
      ]
    },
    {
      "cell_type": "code",
      "execution_count": 13,
      "id": "9f7420c8",
      "metadata": {
        "id": "9f7420c8"
      },
      "outputs": [],
      "source": [
        "# создаем список с данными по каждому шоу\n",
        "shows_data = []\n",
        "for item in shows_list:\n",
        "    show = item.get('show', {})\n",
        "    name = show.get('name', 'Unknown')\n",
        "    language = show.get('language', 'Unknown')\n",
        "    genres = show.get('genres', [])\n",
        "\n",
        "    # пропускаем шоу без жанров\n",
        "    # иначе будет ошибка\n",
        "    if not genres:\n",
        "        continue\n",
        "\n",
        "    for genre in genres:  # добавим одну строку на каждый жанр\n",
        "        shows_data.append({\n",
        "            'name': name,\n",
        "            'language': language,\n",
        "            'genre': genre\n",
        "        })\n"
      ]
    },
    {
      "cell_type": "code",
      "execution_count": 14,
      "id": "ee4a78b2",
      "metadata": {
        "id": "ee4a78b2"
      },
      "outputs": [],
      "source": [
        "# формируем DataFrame на основании списка с данными по каждому шоу\n",
        "df = pd.DataFrame(shows_data)"
      ]
    },
    {
      "cell_type": "code",
      "execution_count": 15,
      "id": "cc3644b1",
      "metadata": {
        "colab": {
          "base_uri": "https://localhost:8080/",
          "height": 617
        },
        "id": "cc3644b1",
        "outputId": "2931fe81-be39-4cf6-a52e-66cfe521ad7a"
      },
      "outputs": [
        {
          "data": {
            "text/html": [
              "<html>\n",
              "<head><meta charset=\"utf-8\" /></head>\n",
              "<body>\n",
              "    <div>            <script src=\"https://cdnjs.cloudflare.com/ajax/libs/mathjax/2.7.5/MathJax.js?config=TeX-AMS-MML_SVG\"></script><script type=\"text/javascript\">if (window.MathJax && window.MathJax.Hub && window.MathJax.Hub.Config) {window.MathJax.Hub.Config({SVG: {font: \"STIX-Web\"}});}</script>                <script type=\"text/javascript\">window.PlotlyConfig = {MathJaxConfig: 'local'};</script>\n",
              "        <script charset=\"utf-8\" src=\"https://cdn.plot.ly/plotly-2.35.2.min.js\"></script>                <div id=\"4d83a6da-f510-4d51-8e89-6de43741c96a\" class=\"plotly-graph-div\" style=\"height:600px; width:800px;\"></div>            <script type=\"text/javascript\">                                    window.PLOTLYENV=window.PLOTLYENV || {};                                    if (document.getElementById(\"4d83a6da-f510-4d51-8e89-6de43741c96a\")) {                    Plotly.newPlot(                        \"4d83a6da-f510-4d51-8e89-6de43741c96a\",                        [{\"branchvalues\":\"total\",\"domain\":{\"x\":[0.0,1.0],\"y\":[0.0,1.0]},\"hovertemplate\":\"labels=%{label}\\u003cbr\\u003ecount=%{value}\\u003cbr\\u003eparent=%{parent}\\u003cbr\\u003eid=%{id}\\u003cextra\\u003e\\u003c\\u002fextra\\u003e\",\"ids\":[\"English\\u002fComedy\\u002fFriends\",\"English\\u002fDrama\\u002fFriends\",\"Japanese\\u002fDrama\\u002fFriends\",\"English\\u002fRomance\\u002fFriends\",\"Japanese\\u002fRomance\\u002fFriends\",\"Japanese\\u002fAdventure\\u002fKemono Friends\",\"Japanese\\u002fAnime\\u002fKemono Friends\",\"Japanese\\u002fComedy\\u002fKemono Friends\",\"Thai\\u002fDrama\\u002fOnly Friends\",\"Thai\\u002fRomance\\u002fOnly Friends\",\"English\\u002fComedy\\u002fSmiling Friends\",\"English\\u002fAction\\u002fSuper Friends\",\"English\\u002fAdventure\\u002fSuper Friends\",\"English\\u002fScience-Fiction\\u002fSuper Friends\",\"English\\u002fAction\",\"English\\u002fAdventure\",\"Japanese\\u002fAdventure\",\"Japanese\\u002fAnime\",\"English\\u002fComedy\",\"Japanese\\u002fComedy\",\"English\\u002fDrama\",\"Japanese\\u002fDrama\",\"Thai\\u002fDrama\",\"English\\u002fRomance\",\"Japanese\\u002fRomance\",\"Thai\\u002fRomance\",\"English\\u002fScience-Fiction\",\"English\",\"Japanese\",\"Thai\"],\"labels\":[\"Friends\",\"Friends\",\"Friends\",\"Friends\",\"Friends\",\"Kemono Friends\",\"Kemono Friends\",\"Kemono Friends\",\"Only Friends\",\"Only Friends\",\"Smiling Friends\",\"Super Friends\",\"Super Friends\",\"Super Friends\",\"Action\",\"Adventure\",\"Adventure\",\"Anime\",\"Comedy\",\"Comedy\",\"Drama\",\"Drama\",\"Drama\",\"Romance\",\"Romance\",\"Romance\",\"Science-Fiction\",\"English\",\"Japanese\",\"Thai\"],\"name\":\"\",\"parents\":[\"English\\u002fComedy\",\"English\\u002fDrama\",\"Japanese\\u002fDrama\",\"English\\u002fRomance\",\"Japanese\\u002fRomance\",\"Japanese\\u002fAdventure\",\"Japanese\\u002fAnime\",\"Japanese\\u002fComedy\",\"Thai\\u002fDrama\",\"Thai\\u002fRomance\",\"English\\u002fComedy\",\"English\\u002fAction\",\"English\\u002fAdventure\",\"English\\u002fScience-Fiction\",\"English\",\"English\",\"Japanese\",\"Japanese\",\"English\",\"Japanese\",\"English\",\"Japanese\",\"Thai\",\"English\",\"Japanese\",\"Thai\",\"English\",\"\",\"\",\"\"],\"values\":[2,1,1,1,1,1,1,1,1,1,1,1,1,1,1,1,1,1,3,1,1,1,1,1,1,1,1,8,5,2],\"type\":\"sunburst\"}],                        {\"template\":{\"data\":{\"histogram2dcontour\":[{\"type\":\"histogram2dcontour\",\"colorbar\":{\"outlinewidth\":0,\"ticks\":\"\"},\"colorscale\":[[0.0,\"#0d0887\"],[0.1111111111111111,\"#46039f\"],[0.2222222222222222,\"#7201a8\"],[0.3333333333333333,\"#9c179e\"],[0.4444444444444444,\"#bd3786\"],[0.5555555555555556,\"#d8576b\"],[0.6666666666666666,\"#ed7953\"],[0.7777777777777778,\"#fb9f3a\"],[0.8888888888888888,\"#fdca26\"],[1.0,\"#f0f921\"]]}],\"choropleth\":[{\"type\":\"choropleth\",\"colorbar\":{\"outlinewidth\":0,\"ticks\":\"\"}}],\"histogram2d\":[{\"type\":\"histogram2d\",\"colorbar\":{\"outlinewidth\":0,\"ticks\":\"\"},\"colorscale\":[[0.0,\"#0d0887\"],[0.1111111111111111,\"#46039f\"],[0.2222222222222222,\"#7201a8\"],[0.3333333333333333,\"#9c179e\"],[0.4444444444444444,\"#bd3786\"],[0.5555555555555556,\"#d8576b\"],[0.6666666666666666,\"#ed7953\"],[0.7777777777777778,\"#fb9f3a\"],[0.8888888888888888,\"#fdca26\"],[1.0,\"#f0f921\"]]}],\"heatmap\":[{\"type\":\"heatmap\",\"colorbar\":{\"outlinewidth\":0,\"ticks\":\"\"},\"colorscale\":[[0.0,\"#0d0887\"],[0.1111111111111111,\"#46039f\"],[0.2222222222222222,\"#7201a8\"],[0.3333333333333333,\"#9c179e\"],[0.4444444444444444,\"#bd3786\"],[0.5555555555555556,\"#d8576b\"],[0.6666666666666666,\"#ed7953\"],[0.7777777777777778,\"#fb9f3a\"],[0.8888888888888888,\"#fdca26\"],[1.0,\"#f0f921\"]]}],\"heatmapgl\":[{\"type\":\"heatmapgl\",\"colorbar\":{\"outlinewidth\":0,\"ticks\":\"\"},\"colorscale\":[[0.0,\"#0d0887\"],[0.1111111111111111,\"#46039f\"],[0.2222222222222222,\"#7201a8\"],[0.3333333333333333,\"#9c179e\"],[0.4444444444444444,\"#bd3786\"],[0.5555555555555556,\"#d8576b\"],[0.6666666666666666,\"#ed7953\"],[0.7777777777777778,\"#fb9f3a\"],[0.8888888888888888,\"#fdca26\"],[1.0,\"#f0f921\"]]}],\"contourcarpet\":[{\"type\":\"contourcarpet\",\"colorbar\":{\"outlinewidth\":0,\"ticks\":\"\"}}],\"contour\":[{\"type\":\"contour\",\"colorbar\":{\"outlinewidth\":0,\"ticks\":\"\"},\"colorscale\":[[0.0,\"#0d0887\"],[0.1111111111111111,\"#46039f\"],[0.2222222222222222,\"#7201a8\"],[0.3333333333333333,\"#9c179e\"],[0.4444444444444444,\"#bd3786\"],[0.5555555555555556,\"#d8576b\"],[0.6666666666666666,\"#ed7953\"],[0.7777777777777778,\"#fb9f3a\"],[0.8888888888888888,\"#fdca26\"],[1.0,\"#f0f921\"]]}],\"surface\":[{\"type\":\"surface\",\"colorbar\":{\"outlinewidth\":0,\"ticks\":\"\"},\"colorscale\":[[0.0,\"#0d0887\"],[0.1111111111111111,\"#46039f\"],[0.2222222222222222,\"#7201a8\"],[0.3333333333333333,\"#9c179e\"],[0.4444444444444444,\"#bd3786\"],[0.5555555555555556,\"#d8576b\"],[0.6666666666666666,\"#ed7953\"],[0.7777777777777778,\"#fb9f3a\"],[0.8888888888888888,\"#fdca26\"],[1.0,\"#f0f921\"]]}],\"mesh3d\":[{\"type\":\"mesh3d\",\"colorbar\":{\"outlinewidth\":0,\"ticks\":\"\"}}],\"scatter\":[{\"fillpattern\":{\"fillmode\":\"overlay\",\"size\":10,\"solidity\":0.2},\"type\":\"scatter\"}],\"parcoords\":[{\"type\":\"parcoords\",\"line\":{\"colorbar\":{\"outlinewidth\":0,\"ticks\":\"\"}}}],\"scatterpolargl\":[{\"type\":\"scatterpolargl\",\"marker\":{\"colorbar\":{\"outlinewidth\":0,\"ticks\":\"\"}}}],\"bar\":[{\"error_x\":{\"color\":\"#2a3f5f\"},\"error_y\":{\"color\":\"#2a3f5f\"},\"marker\":{\"line\":{\"color\":\"#E5ECF6\",\"width\":0.5},\"pattern\":{\"fillmode\":\"overlay\",\"size\":10,\"solidity\":0.2}},\"type\":\"bar\"}],\"scattergeo\":[{\"type\":\"scattergeo\",\"marker\":{\"colorbar\":{\"outlinewidth\":0,\"ticks\":\"\"}}}],\"scatterpolar\":[{\"type\":\"scatterpolar\",\"marker\":{\"colorbar\":{\"outlinewidth\":0,\"ticks\":\"\"}}}],\"histogram\":[{\"marker\":{\"pattern\":{\"fillmode\":\"overlay\",\"size\":10,\"solidity\":0.2}},\"type\":\"histogram\"}],\"scattergl\":[{\"type\":\"scattergl\",\"marker\":{\"colorbar\":{\"outlinewidth\":0,\"ticks\":\"\"}}}],\"scatter3d\":[{\"type\":\"scatter3d\",\"line\":{\"colorbar\":{\"outlinewidth\":0,\"ticks\":\"\"}},\"marker\":{\"colorbar\":{\"outlinewidth\":0,\"ticks\":\"\"}}}],\"scattermapbox\":[{\"type\":\"scattermapbox\",\"marker\":{\"colorbar\":{\"outlinewidth\":0,\"ticks\":\"\"}}}],\"scatterternary\":[{\"type\":\"scatterternary\",\"marker\":{\"colorbar\":{\"outlinewidth\":0,\"ticks\":\"\"}}}],\"scattercarpet\":[{\"type\":\"scattercarpet\",\"marker\":{\"colorbar\":{\"outlinewidth\":0,\"ticks\":\"\"}}}],\"carpet\":[{\"aaxis\":{\"endlinecolor\":\"#2a3f5f\",\"gridcolor\":\"white\",\"linecolor\":\"white\",\"minorgridcolor\":\"white\",\"startlinecolor\":\"#2a3f5f\"},\"baxis\":{\"endlinecolor\":\"#2a3f5f\",\"gridcolor\":\"white\",\"linecolor\":\"white\",\"minorgridcolor\":\"white\",\"startlinecolor\":\"#2a3f5f\"},\"type\":\"carpet\"}],\"table\":[{\"cells\":{\"fill\":{\"color\":\"#EBF0F8\"},\"line\":{\"color\":\"white\"}},\"header\":{\"fill\":{\"color\":\"#C8D4E3\"},\"line\":{\"color\":\"white\"}},\"type\":\"table\"}],\"barpolar\":[{\"marker\":{\"line\":{\"color\":\"#E5ECF6\",\"width\":0.5},\"pattern\":{\"fillmode\":\"overlay\",\"size\":10,\"solidity\":0.2}},\"type\":\"barpolar\"}],\"pie\":[{\"automargin\":true,\"type\":\"pie\"}]},\"layout\":{\"autotypenumbers\":\"strict\",\"colorway\":[\"#636efa\",\"#EF553B\",\"#00cc96\",\"#ab63fa\",\"#FFA15A\",\"#19d3f3\",\"#FF6692\",\"#B6E880\",\"#FF97FF\",\"#FECB52\"],\"font\":{\"color\":\"#2a3f5f\"},\"hovermode\":\"closest\",\"hoverlabel\":{\"align\":\"left\"},\"paper_bgcolor\":\"white\",\"plot_bgcolor\":\"#E5ECF6\",\"polar\":{\"bgcolor\":\"#E5ECF6\",\"angularaxis\":{\"gridcolor\":\"white\",\"linecolor\":\"white\",\"ticks\":\"\"},\"radialaxis\":{\"gridcolor\":\"white\",\"linecolor\":\"white\",\"ticks\":\"\"}},\"ternary\":{\"bgcolor\":\"#E5ECF6\",\"aaxis\":{\"gridcolor\":\"white\",\"linecolor\":\"white\",\"ticks\":\"\"},\"baxis\":{\"gridcolor\":\"white\",\"linecolor\":\"white\",\"ticks\":\"\"},\"caxis\":{\"gridcolor\":\"white\",\"linecolor\":\"white\",\"ticks\":\"\"}},\"coloraxis\":{\"colorbar\":{\"outlinewidth\":0,\"ticks\":\"\"}},\"colorscale\":{\"sequential\":[[0.0,\"#0d0887\"],[0.1111111111111111,\"#46039f\"],[0.2222222222222222,\"#7201a8\"],[0.3333333333333333,\"#9c179e\"],[0.4444444444444444,\"#bd3786\"],[0.5555555555555556,\"#d8576b\"],[0.6666666666666666,\"#ed7953\"],[0.7777777777777778,\"#fb9f3a\"],[0.8888888888888888,\"#fdca26\"],[1.0,\"#f0f921\"]],\"sequentialminus\":[[0.0,\"#0d0887\"],[0.1111111111111111,\"#46039f\"],[0.2222222222222222,\"#7201a8\"],[0.3333333333333333,\"#9c179e\"],[0.4444444444444444,\"#bd3786\"],[0.5555555555555556,\"#d8576b\"],[0.6666666666666666,\"#ed7953\"],[0.7777777777777778,\"#fb9f3a\"],[0.8888888888888888,\"#fdca26\"],[1.0,\"#f0f921\"]],\"diverging\":[[0,\"#8e0152\"],[0.1,\"#c51b7d\"],[0.2,\"#de77ae\"],[0.3,\"#f1b6da\"],[0.4,\"#fde0ef\"],[0.5,\"#f7f7f7\"],[0.6,\"#e6f5d0\"],[0.7,\"#b8e186\"],[0.8,\"#7fbc41\"],[0.9,\"#4d9221\"],[1,\"#276419\"]]},\"xaxis\":{\"gridcolor\":\"white\",\"linecolor\":\"white\",\"ticks\":\"\",\"title\":{\"standoff\":15},\"zerolinecolor\":\"white\",\"automargin\":true,\"zerolinewidth\":2},\"yaxis\":{\"gridcolor\":\"white\",\"linecolor\":\"white\",\"ticks\":\"\",\"title\":{\"standoff\":15},\"zerolinecolor\":\"white\",\"automargin\":true,\"zerolinewidth\":2},\"scene\":{\"xaxis\":{\"backgroundcolor\":\"#E5ECF6\",\"gridcolor\":\"white\",\"linecolor\":\"white\",\"showbackground\":true,\"ticks\":\"\",\"zerolinecolor\":\"white\",\"gridwidth\":2},\"yaxis\":{\"backgroundcolor\":\"#E5ECF6\",\"gridcolor\":\"white\",\"linecolor\":\"white\",\"showbackground\":true,\"ticks\":\"\",\"zerolinecolor\":\"white\",\"gridwidth\":2},\"zaxis\":{\"backgroundcolor\":\"#E5ECF6\",\"gridcolor\":\"white\",\"linecolor\":\"white\",\"showbackground\":true,\"ticks\":\"\",\"zerolinecolor\":\"white\",\"gridwidth\":2}},\"shapedefaults\":{\"line\":{\"color\":\"#2a3f5f\"}},\"annotationdefaults\":{\"arrowcolor\":\"#2a3f5f\",\"arrowhead\":0,\"arrowwidth\":1},\"geo\":{\"bgcolor\":\"white\",\"landcolor\":\"#E5ECF6\",\"subunitcolor\":\"white\",\"showland\":true,\"showlakes\":true,\"lakecolor\":\"white\"},\"title\":{\"x\":0.05},\"mapbox\":{\"style\":\"light\"}}},\"legend\":{\"tracegroupgap\":0},\"title\":{\"text\":\"Sunburst-диаграмма: Язык → Жанр → Название шоу (\\\"Friends\\\")\"},\"height\":600,\"width\":800},                        {\"responsive\": true}                    ).then(function(){\n",
              "                            \n",
              "var gd = document.getElementById('4d83a6da-f510-4d51-8e89-6de43741c96a');\n",
              "var x = new MutationObserver(function (mutations, observer) {{\n",
              "        var display = window.getComputedStyle(gd).display;\n",
              "        if (!display || display === 'none') {{\n",
              "            console.log([gd, 'removed!']);\n",
              "            Plotly.purge(gd);\n",
              "            observer.disconnect();\n",
              "        }}\n",
              "}});\n",
              "\n",
              "// Listen for the removal of the full notebook cells\n",
              "var notebookContainer = gd.closest('#notebook-container');\n",
              "if (notebookContainer) {{\n",
              "    x.observe(notebookContainer, {childList: true});\n",
              "}}\n",
              "\n",
              "// Listen for the clearing of the current output cell\n",
              "var outputEl = gd.closest('.output');\n",
              "if (outputEl) {{\n",
              "    x.observe(outputEl, {childList: true});\n",
              "}}\n",
              "\n",
              "                        })                };                            </script>        </div>\n",
              "</body>\n",
              "</html>"
            ]
          },
          "metadata": {},
          "output_type": "display_data"
        }
      ],
      "source": [
        "# строим Sunbursts-диаграмму\n",
        "fig = px.sunburst(\n",
        "    df,\n",
        "    path=['language', 'genre', 'name'],\n",
        "    title='Sunburst-диаграмма: Язык → Жанр → Название шоу (\"Friends\")',\n",
        "    width=800,\n",
        "    height=600\n",
        ")\n",
        "fig.show()"
      ]
    },
    {
      "cell_type": "markdown",
      "id": "1061a923",
      "metadata": {
        "id": "1061a923"
      },
      "source": [
        "#### **Задание № 3**"
      ]
    },
    {
      "cell_type": "markdown",
      "id": "99c7aded",
      "metadata": {
        "id": "99c7aded"
      },
      "source": [
        "С помощью TVMaze API выгрузите данные о всех эпизодах сериала \"Сверхъестественное\", который выходил с 2005 по 2020 гг. Найдите серии с минимальным и максимальным средними рейтингами, а также постройте столбчатую диаграмму со средними рейтингами каждого сезона. Проанализируйте полученный график и сделайте выводы."
      ]
    },
    {
      "cell_type": "code",
      "execution_count": 16,
      "id": "e2e119f1",
      "metadata": {
        "id": "e2e119f1"
      },
      "outputs": [],
      "source": [
        "# URL для получения списка ТВ-шоу, где в названии есть слово \"сверхъестественное (supernatural)\"\n",
        "import requests\n",
        "import pandas as pd\n",
        "import matplotlib.pyplot as plt\n",
        "search_url = \"https://api.tvmaze.com/search/shows?q=supernatural\""
      ]
    },
    {
      "cell_type": "code",
      "execution_count": 17,
      "id": "e8187f51",
      "metadata": {
        "id": "e8187f51"
      },
      "outputs": [],
      "source": [
        "# отправляем GET-запрос и получаем ответ в формате JSON\n",
        "search_response = requests.get(search_url)\n",
        "if search_response.status_code != 200:\n",
        "    raise Exception(f\"Ошибка при запросе: {search_response.status_code}\")\n",
        "\n",
        "search_data = search_response.json()\n",
        "# преобразуем JSON в список\n",
        "search_results = list(search_data)"
      ]
    },
    {
      "cell_type": "code",
      "execution_count": 18,
      "id": "fb996f4f",
      "metadata": {
        "id": "fb996f4f"
      },
      "outputs": [],
      "source": [
        "# сохраняем id сериала \"Сверхъестественное\"\n",
        "supernatural_id = None\n",
        "for item in search_results:\n",
        "    show = item.get('show', {})\n",
        "    if show.get('name', '').lower() == 'supernatural' and '2005' in str(show.get('premiered', '')):\n",
        "        supernatural_id = show['id']\n",
        "        break\n",
        "\n",
        "if supernatural_id is None:\n",
        "    raise Exception(\"Сериал 'Сверхъестественное' не найден\")"
      ]
    },
    {
      "cell_type": "code",
      "execution_count": 19,
      "id": "b8a70f72",
      "metadata": {
        "id": "b8a70f72"
      },
      "outputs": [],
      "source": [
        "# URL для получения списка эпизодов сериала \"Сверхъестественное\"\n",
        "episodes_url = f\"https://api.tvmaze.com/shows/{supernatural_id}/episodes\""
      ]
    },
    {
      "cell_type": "code",
      "execution_count": 20,
      "id": "2ae295d1",
      "metadata": {
        "id": "2ae295d1"
      },
      "outputs": [],
      "source": [
        "# отправляем GET-запрос и получаем ответ в формате JSON\n",
        "episodes_response = requests.get(episodes_url)\n",
        "if episodes_response.status_code != 200:\n",
        "    raise Exception(f\"Ошибка при получении эпизодов: {episodes_response.status_code}\")\n",
        "\n",
        "episodes_data = episodes_response.json()\n",
        "# преобразуем JSON в список\n"
      ]
    },
    {
      "cell_type": "code",
      "execution_count": 21,
      "id": "1efa03fb",
      "metadata": {
        "id": "1efa03fb"
      },
      "outputs": [],
      "source": [
        "# формируем DataFrame на основании списка с данными по каждой серии\n",
        "episodes_df = pd.DataFrame(episodes_data)"
      ]
    },
    {
      "cell_type": "code",
      "execution_count": 22,
      "id": "e4f0482a",
      "metadata": {
        "colab": {
          "base_uri": "https://localhost:8080/"
        },
        "id": "e4f0482a",
        "outputId": "0169f081-c9b6-4664-b522-4ea4fc600225"
      },
      "outputs": [
        {
          "name": "stdout",
          "output_type": "stream",
          "text": [
            "Серия с минимальным рейтингом:\n",
            "season                   10\n",
            "number                    4\n",
            "name             Paper Moon\n",
            "airdate          2014-10-28\n",
            "rating     {'average': 6.3}\n",
            "average                 6.3\n",
            "Name: 198, dtype: object\n"
          ]
        },
        {
          "name": "stderr",
          "output_type": "stream",
          "text": [
            "<ipython-input-22-02a8e97f3a75>:3: SettingWithCopyWarning:\n",
            "\n",
            "\n",
            "A value is trying to be set on a copy of a slice from a DataFrame.\n",
            "Try using .loc[row_indexer,col_indexer] = value instead\n",
            "\n",
            "See the caveats in the documentation: https://pandas.pydata.org/pandas-docs/stable/user_guide/indexing.html#returning-a-view-versus-a-copy\n",
            "\n"
          ]
        }
      ],
      "source": [
        "# отфильтровываем только нужные столбцы\n",
        "episodes_df = episodes_df[['season', 'number', 'name', 'airdate', 'rating']]\n",
        "episodes_df['average'] = episodes_df['rating'].apply(lambda r: r['average'] if isinstance(r, dict) else None)\n",
        "\n",
        "# находим данные о серии с минимальным рейтингом\n",
        "min_rating_episode = episodes_df.loc[episodes_df['average'].idxmin()]\n",
        "print(\"Серия с минимальным рейтингом:\")\n",
        "print(min_rating_episode)\n"
      ]
    },
    {
      "cell_type": "code",
      "execution_count": 23,
      "id": "3b1b3342",
      "metadata": {
        "colab": {
          "base_uri": "https://localhost:8080/"
        },
        "id": "3b1b3342",
        "outputId": "53d79bc3-3ab1-4365-fcd6-58b00cc3fe92"
      },
      "outputs": [
        {
          "name": "stdout",
          "output_type": "stream",
          "text": [
            "Серия с максимальным рейтингом:\n",
            "season                             2\n",
            "number                            22\n",
            "name       All Hell Breaks Loose (2)\n",
            "airdate                   2007-05-17\n",
            "rating              {'average': 9.3}\n",
            "average                          9.3\n",
            "Name: 43, dtype: object\n"
          ]
        }
      ],
      "source": [
        "# находим данные о серии с максимальным рейтингом\n",
        "max_rating_episode = episodes_df.loc[episodes_df['average'].idxmax()]\n",
        "print(\"Серия с максимальным рейтингом:\")\n",
        "print(max_rating_episode)"
      ]
    },
    {
      "cell_type": "code",
      "execution_count": 24,
      "id": "35514e68",
      "metadata": {
        "id": "35514e68"
      },
      "outputs": [],
      "source": [
        "# группируем данные и вычисляем средний рейтинг для каждого сезона\n",
        "season_ratings = episodes_df.groupby('season')['average'].mean().reset_index()"
      ]
    },
    {
      "cell_type": "code",
      "execution_count": 25,
      "id": "e18f1b80",
      "metadata": {
        "colab": {
          "base_uri": "https://localhost:8080/",
          "height": 607
        },
        "id": "e18f1b80",
        "outputId": "59658736-ab1b-482c-9c07-180745742f7f"
      },
      "outputs": [
        {
          "data": {
            "image/png": "[encoded data removed]",
            "text/plain": [
              "<Figure size 1200x600 with 1 Axes>"
            ]
          },
          "metadata": {},
          "output_type": "display_data"
        }
      ],
      "source": [
        "# строим столбчатую диаграмму рейтинга сезонов сериала \"Сверхъестественное\"\n",
        "plt.figure(figsize=(12, 6))\n",
        "plt.bar(season_ratings['season'], season_ratings['average'], color='skyblue')\n",
        "plt.xlabel('Сезон')\n",
        "plt.ylabel('Средний рейтинг')\n",
        "plt.title('Средний рейтинг по сезонам сериала \"Сверхъестественное\" (2005–2020)')\n",
        "plt.xticks(season_ratings['season'])\n",
        "plt.grid(axis='y', linestyle='--', alpha=0.7)\n",
        "plt.tight_layout()\n",
        "plt.show()"
      ]
    },
    {
      "cell_type": "markdown",
      "id": "544470ac",
      "metadata": {
        "id": "544470ac"
      },
      "source": [
        "**Выводы по графику**:"
      ]
    },
    {
      "cell_type": "markdown",
      "id": "194c7c44",
      "metadata": {
        "id": "194c7c44"
      },
      "source": [
        "### **Работа с GitHub API через GraphQL**"
      ]
    },
    {
      "cell_type": "markdown",
      "id": "90b86309",
      "metadata": {
        "id": "90b86309"
      },
      "source": [
        "https://api.github.com/graphql - базовый адрес для GraphQL-запросов к GitHub\n",
        "\n",
        "https://docs.github.com/ru/graphql - документация GitHub GraphQL API"
      ]
    },
    {
      "cell_type": "markdown",
      "id": "d0b1c7c7",
      "metadata": {
        "id": "d0b1c7c7"
      },
      "source": [
        "#### **Задание 4**"
      ]
    },
    {
      "cell_type": "markdown",
      "id": "65eaff46",
      "metadata": {
        "id": "65eaff46"
      },
      "source": [
        "С помощью GitHub API через GraphQL выгрузите данные о следующих репозиториях:\n",
        "Автор | Название репозитория\n",
        "------|---------------------\n",
        "pallets | flask\n",
        "django | django\n",
        "numpy | numpy\n",
        "pandas-dev | pandas\n",
        "tiangolo | fastapi\n",
        "\n",
        "На основании выгруженных данных постройте столбчатую диаграмму, отображающую количество звезд для указанных репозиториев."
      ]
    },
    {
      "cell_type": "code",
      "execution_count": null,
      "id": "98d143e7",
      "metadata": {
        "id": "98d143e7"
      },
      "outputs": [],
      "source": [
        "# подключаем необходимые библиотеки\n",
        "import requests\n",
        "import pandas as pd\n",
        "import matplotlib.pyplot as plt\n",
        "\n",
        "# персональный токен GitHub\n",
        "GITHUB_TOKEN = \"token here\""
      ]
    },
    {
      "cell_type": "code",
      "execution_count": 27,
      "id": "db905248",
      "metadata": {
        "id": "db905248"
      },
      "outputs": [],
      "source": [
        "# базовый адрес для GraphQL-запросов к GitHub\n",
        "GITHUB_API_URL = \"https://api.github.com/graphql\""
      ]
    },
    {
      "cell_type": "markdown",
      "id": "76bab3c3",
      "metadata": {
        "id": "76bab3c3"
      },
      "source": [
        "**Bearer** - это тип токена, который указывает, что доступ к ресурсу предоставляется по персональному токеном. Является обязательным механизмом при работе с GitHub API через GraphQL."
      ]
    },
    {
      "cell_type": "code",
      "execution_count": 28,
      "id": "5c1da1e2",
      "metadata": {
        "id": "5c1da1e2"
      },
      "outputs": [],
      "source": [
        "# заголовки запроса\n",
        "headers = {\n",
        "    \"Authorization\": f\"Bearer {GITHUB_TOKEN}\",\n",
        "    \"Content-Type\": \"application/json\"\n",
        "}"
      ]
    },
    {
      "cell_type": "code",
      "execution_count": 29,
      "id": "a94e550f",
      "metadata": {
        "id": "a94e550f"
      },
      "outputs": [],
      "source": [
        "# список кортежей (владелец, имя репозитория), для которых нужно получить число звезд\n",
        "repos = [\n",
        "    (\"pallets\", \"flask\"),\n",
        "    (\"django\", \"django\"),\n",
        "    (\"numpy\", \"numpy\"),\n",
        "    (\"pandas-dev\", \"pandas\"),\n",
        "    (\"tiangolo\", \"fastapi\")\n",
        "]"
      ]
    },
    {
      "cell_type": "code",
      "execution_count": 30,
      "id": "068415a6",
      "metadata": {
        "id": "068415a6"
      },
      "outputs": [],
      "source": [
        "# шаблон запроса GraphQL, в который подставляются owner (владелец) и name (название) каждого репозитория\n",
        "query_template = \"\"\"\n",
        "query {{\n",
        "  repository(owner: \\\"{owner}\\\", name: \\\"{name}\\\") {{\n",
        "    name\n",
        "    owner {{ login }}\n",
        "    stargazerCount\n",
        "  }}\n",
        "}}\n",
        "\"\"\""
      ]
    },
    {
      "cell_type": "code",
      "execution_count": 31,
      "id": "5833d581",
      "metadata": {
        "id": "5833d581"
      },
      "outputs": [],
      "source": [
        "data = []\n",
        "for owner, name in repos:\n",
        "    query = query_template.format(owner=owner, name=name)\n",
        "    response = requests.post(GITHUB_API_URL, headers=headers, json={\"query\": query})\n",
        "    if response.status_code != 200:\n",
        "        raise Exception(f\"Ошибка при запросе к GitHub API: {response.status_code}\")\n",
        "    result = response.json()\n",
        "    repo_info = result['data']['repository']\n",
        "    data.append({\n",
        "        \"owner\": repo_info['owner']['login'],\n",
        "        \"repository\": repo_info['name'],\n",
        "        \"stars\": repo_info['stargazerCount']\n",
        "    })\n"
      ]
    },
    {
      "cell_type": "code",
      "execution_count": 32,
      "id": "7678f782",
      "metadata": {
        "id": "7678f782"
      },
      "outputs": [],
      "source": [
        "# формируем DataFrame на основании списка с данными о репозиториях\n",
        "df = pd.DataFrame(data)"
      ]
    },
    {
      "cell_type": "code",
      "execution_count": 34,
      "id": "6a92b3c8",
      "metadata": {
        "colab": {
          "base_uri": "https://localhost:8080/",
          "height": 607
        },
        "id": "6a92b3c8",
        "outputId": "ece8e109-79fc-4f74-e118-e687d5aa7ed6"
      },
      "outputs": [
        {
          "data": {
            "image/png": "[encoded data removed]",
            "text/plain": [
              "<Figure size 1000x600 with 1 Axes>"
            ]
          },
          "metadata": {},
          "output_type": "display_data"
        }
      ],
      "source": [
        "# строим столбчатую диаграмму для отображения количества звезд популярных репозиториев GitHub\n",
        "plt.figure(figsize=(10, 6))\n",
        "plt.bar(df['repository'], df['stars'], color='orange')\n",
        "plt.xlabel('Репозиторий')\n",
        "plt.ylabel('Количество звезд')\n",
        "plt.title('Количество звезд популярных репозиториев GitHub')\n",
        "plt.grid(axis='y', linestyle='--', alpha=0.7)\n",
        "plt.tight_layout()\n",
        "plt.show()"
      ]
    },
    {
      "cell_type": "markdown",
      "id": "a17efcf7",
      "metadata": {
        "id": "a17efcf7"
      },
      "source": [
        "#### **Задание № 5**"
      ]
    },
    {
      "cell_type": "markdown",
      "id": "bcfe70d4",
      "metadata": {
        "id": "bcfe70d4"
      },
      "source": [
        "С помощью GitHub API через GraphQL для репозитория vscode (автор microsoft) выгрузите последние 100 опубликованных issues. Постройте линейный график, отображающий количества созданных issues по часам. Проанализируйте полученный график и сделайте выводы."
      ]
    },
    {
      "cell_type": "markdown",
      "id": "4e5f095f",
      "metadata": {
        "id": "4e5f095f"
      },
      "source": [
        "**issues** - встроенная система обсуждений, задач и отслеживания ошибок в репозиториях GitHub"
      ]
    },
    {
      "cell_type": "code",
      "execution_count": null,
      "id": "3ce25988",
      "metadata": {
        "id": "3ce25988"
      },
      "outputs": [],
      "source": [
        "# подключаем необходимые библиотеки\n",
        "import requests\n",
        "import pandas as pd\n",
        "import matplotlib.pyplot as plt\n",
        "\n",
        "# персональный токен GitHub\n",
        "GITHUB_TOKEN = \"token here\"\n",
        "# базовый адрес для GraphQL-запросов к GitHub\n",
        "GITHUB_API_URL = \"https://api.github.com/graphql\"\n",
        "\n",
        "# заголовки запроса\n",
        "headers = {\n",
        "    \"Authorization\": f\"Bearer {GITHUB_TOKEN}\",\n",
        "    \"Content-Type\": \"application/json\"\n",
        "}\n",
        "# запрос на получение последних 100 issues из репозитория vscode, которым владеет microsoft\n",
        "query = \"\"\"\n",
        "query {\n",
        "  repository(owner: \\\"microsoft\\\", name: \\\"vscode\\\") {\n",
        "    issues(last: 100, states: OPEN) {\n",
        "      nodes {\n",
        "        title\n",
        "        createdAt\n",
        "      }\n",
        "    }\n",
        "  }\n",
        "}\n",
        "\"\"\""
      ]
    },
    {
      "cell_type": "code",
      "execution_count": 36,
      "id": "11c97807",
      "metadata": {
        "id": "11c97807"
      },
      "outputs": [],
      "source": [
        "# отправляем POST-запрос\n",
        "response = requests.post(GITHUB_API_URL, headers=headers, json={\"query\": query})\n",
        "if response.status_code != 200:\n",
        "    raise Exception(f\"Ошибка при запросе к GitHub API: {response.status_code}\")\n",
        "# извлекаем из полученного ответа информацию о созданных issues\n",
        "issues = response.json()['data']['repository']['issues']['nodes']"
      ]
    },
    {
      "cell_type": "code",
      "execution_count": 37,
      "id": "0353fc36",
      "metadata": {
        "id": "0353fc36"
      },
      "outputs": [],
      "source": [
        "# преобразуем полученный список в датафрейм\n",
        "df = pd.DataFrame(issues)\n"
      ]
    },
    {
      "cell_type": "code",
      "execution_count": 38,
      "id": "f00c6eae",
      "metadata": {
        "id": "f00c6eae"
      },
      "outputs": [],
      "source": [
        "# преобразуем столбец createdAt в формат datetime\n",
        "df['createdAt'] = pd.to_datetime(df['createdAt'])\n",
        "\n",
        "# создаем столбец с часами, округляя вниз\n",
        "df['hour'] = df['createdAt'].dt.floor('h')"
      ]
    },
    {
      "cell_type": "code",
      "execution_count": 39,
      "id": "820f6027",
      "metadata": {
        "id": "820f6027"
      },
      "outputs": [],
      "source": [
        "# группируем данные и подсчитываем количество issues для каждого часа\n",
        "issues_per_hour = df.groupby('hour').size().reset_index(name='count')"
      ]
    },
    {
      "cell_type": "code",
      "execution_count": 40,
      "id": "6a3f85e7",
      "metadata": {
        "colab": {
          "base_uri": "https://localhost:8080/",
          "height": 607
        },
        "id": "6a3f85e7",
        "outputId": "0a9dde3a-77b5-493d-c10d-ad8323ee2f45"
      },
      "outputs": [
        {
          "data": {
            "image/png": "[encoded data removed]",
            "text/plain": [
              "<Figure size 1200x600 with 1 Axes>"
            ]
          },
          "metadata": {},
          "output_type": "display_data"
        }
      ],
      "source": [
        "# строим линейный график для отображения количества созданных issues по часам в репозитории vscode\n",
        "plt.figure(figsize=(12, 6))\n",
        "plt.plot(issues_per_hour['hour'], issues_per_hour['count'], marker='o', linestyle='-')\n",
        "plt.xlabel('Час')\n",
        "plt.ylabel('Количество issues')\n",
        "plt.title('Количество созданных issues по часам (репозиторий vscode)')\n",
        "plt.xticks(rotation=45)\n",
        "plt.grid(True)\n",
        "plt.tight_layout()\n",
        "plt.show()"
      ]
    },
    {
      "cell_type": "markdown",
      "id": "3bcfa775",
      "metadata": {
        "id": "3bcfa775"
      },
      "source": [
        "**Выводы по графику**:"
      ]
    }
  ],
  "metadata": {
    "colab": {
      "provenance": []
    },
    "kernelspec": {
      "display_name": "Python 3",
      "language": "python",
      "name": "python3"
    },
    "language_info": {
      "codemirror_mode": {
        "name": "ipython",
        "version": 3
      },
      "file_extension": ".py",
      "mimetype": "text/x-python",
      "name": "python",
      "nbconvert_exporter": "python",
      "pygments_lexer": "ipython3",
      "version": "3.13.0"
    }
  },
  "nbformat": 4,
  "nbformat_minor": 5
}
