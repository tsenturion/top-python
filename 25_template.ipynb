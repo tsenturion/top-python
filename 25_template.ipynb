{
 "cells": [
  {
   "cell_type": "markdown",
   "id": "6680f1be",
   "metadata": {},
   "source": [
    "## **Воркшоп по API**"
   ]
  },
  {
   "cell_type": "markdown",
   "id": "dcccfa98",
   "metadata": {},
   "source": [
    "### **Работа с ТВ-шоу через REST API**"
   ]
  },
  {
   "cell_type": "markdown",
   "id": "f3ac1c69",
   "metadata": {},
   "source": [
    "https://api.tvmaze.com - публичный API с данными о ТВ-шоу, сериалах и актерах"
   ]
  },
  {
   "cell_type": "markdown",
   "id": "929979ff",
   "metadata": {},
   "source": [
    "#### **Задание № 1**"
   ]
  },
  {
   "cell_type": "markdown",
   "id": "67b826b0",
   "metadata": {},
   "source": [
    "С помощью TVMaze API выгрузите данные о всех имеющихся шоу со страницы с индексом 0. Постройте гистограмму, показывающую распределение шоу по годам премьеры. Проанализируйте гистограмму и сделайте выводы."
   ]
  },
  {
   "cell_type": "code",
   "execution_count": 1,
   "id": "fe0ba646",
   "metadata": {},
   "outputs": [],
   "source": [
    "# подключаем необходимые библиотеки\n",
    "import requests\n",
    "import pandas as pd\n",
    "import matplotlib.pyplot as plt"
   ]
  },
  {
   "cell_type": "code",
   "execution_count": null,
   "id": "624d0ba6",
   "metadata": {},
   "outputs": [],
   "source": [
    "# URL для получения данных о всех ТВ-шоу со страницы с индексом 0\n",
    "url = \"https://api.tvmaze.com/shows?page=0\""
   ]
  },
  {
   "cell_type": "code",
   "execution_count": 4,
   "id": "6f57091c",
   "metadata": {},
   "outputs": [],
   "source": [
    "# отправляем GET-запрос и получаем ответ в формате JSON\n",
    "response = requests.get(url)\n",
    "# преобразуем JSON в список\n",
    "shows_list = response.json()"
   ]
  },
  {
   "cell_type": "code",
   "execution_count": 5,
   "id": "b565f5e6",
   "metadata": {},
   "outputs": [
    {
     "name": "stdout",
     "output_type": "stream",
     "text": [
      "Under the Dome\n",
      "Person of Interest\n",
      "Bitten\n",
      "Arrow\n",
      "True Detective\n",
      "The 100\n",
      "Homeland\n",
      "Glee\n",
      "Revenge\n",
      "Grimm\n",
      "Gotham\n",
      "Lost Girl\n",
      "The Flash\n",
      "Continuum\n",
      "Constantine\n",
      "Penny Dreadful\n",
      "The Amazing Race\n",
      "Supernatural\n",
      "The Strain\n",
      "The Last Ship\n",
      "True Blood\n",
      "Once Upon a Time in Wonderland\n",
      "Hawaii Five-0\n",
      "Hellsing\n",
      "Hellsing Ultimate\n",
      "Berserk\n",
      "Californication\n",
      "Vikings\n",
      "American Horror Story\n",
      "Marvel's Agents of S.H.I.E.L.D.\n",
      "Fargo\n",
      "Hemlock Grove\n",
      "Helix\n",
      "The Killing\n",
      "Intruders\n",
      "Z Nation\n",
      "Resurrection\n",
      "Death Note\n",
      "Last Man Standing\n",
      "Sleepy Hollow\n",
      "Outlander\n",
      "Scorpion\n",
      "NCIS: New Orleans\n",
      "Forever\n",
      "Witches of East End\n",
      "Madam Secretary\n",
      "Brooklyn Nine-Nine\n",
      "The Lottery\n",
      "The Knick\n",
      "How to Get Away with Murder\n",
      "Nashville\n",
      "Legends\n",
      "Red Band Society\n",
      "Chicago P.D.\n",
      "black-ish\n",
      "New Girl\n",
      "Chicago Fire\n",
      "NCIS\n",
      "Orphan Black\n",
      "The Originals\n",
      "The Vampire Diaries\n",
      "Utopia\n",
      "Bones\n",
      "The Big Bang Theory\n",
      "Grey's Anatomy\n",
      "Castle\n",
      "The Blacklist\n",
      "The Voice\n",
      "Dancing with the Stars\n",
      "NCIS: Los Angeles\n",
      "The Walking Dead\n",
      "Hell on Wheels\n",
      "The Mindy Project\n",
      "Sons of Anarchy\n",
      "The Middle\n",
      "The Mysteries of Laura\n",
      "The Goldbergs\n",
      "Modern Family\n",
      "Criminal Minds\n",
      "Game of Thrones\n",
      "The Simpsons\n",
      "Family Guy\n",
      "Stalker\n",
      "The Bridge\n",
      "Reign\n",
      "Unforgettable\n",
      "Haven\n",
      "Bad Judge\n",
      "A to Z\n",
      "Parenthood\n",
      "Defiance\n",
      "Falling Skies\n",
      "Manhattan Love Story\n",
      "The Biggest Loser\n",
      "Scandal\n",
      "America's Next Top Model\n",
      "Blue Bloods\n",
      "The Good Wife\n",
      "Boardwalk Empire\n",
      "Law & Order: Special Victims Unit\n",
      "Dominion\n",
      "From Dusk Till Dawn: The Series\n",
      "Justified\n",
      "Bob's Burgers\n",
      "Mulaney\n",
      "CSI: Crime Scene Investigation\n",
      "Gracepoint\n",
      "Once Upon a Time\n",
      "South Park\n",
      "Survivor\n",
      "King of the Hill\n",
      "The Mentalist\n",
      "Star Wars: Rebels\n",
      "House\n",
      "Transparent\n",
      "Nikita\n",
      "Lost\n",
      "2 Broke Girls\n",
      "Selfie\n",
      "Mom\n",
      "The Affair\n",
      "Jane the Virgin\n",
      "Marry Me\n",
      "Two and a Half Men\n",
      "About a Boy\n",
      "The Millers\n",
      "Elementary\n",
      "Heroes\n",
      "The McCarthys\n",
      "Cristela\n",
      "The Leftovers\n",
      "Girls\n",
      "Looking\n",
      "Getting On\n",
      "Veep\n",
      "Silicon Valley\n",
      "The Comeback\n",
      "House of Lies\n",
      "Episodes\n",
      "Nurse Jackie\n",
      "Web Therapy\n",
      "Masters of Sex\n",
      "Shameless\n",
      "The Newsroom\n",
      "Ray Donovan\n",
      "Utopia\n",
      "Sanctuary\n",
      "Beauty & the Beast\n",
      "Twin Peaks\n",
      "The Americans\n",
      "Fringe\n",
      "State of Affairs\n",
      "Weeds\n",
      "Dexter\n",
      "Carnivàle\n",
      "Human Target\n",
      "Banshee\n",
      "Bionic Woman\n",
      "Battlestar Galactica\n",
      "24\n",
      "Chuck\n",
      "Breaking Bad\n",
      "Orange Is the New Black\n",
      "How I Met Your Mother\n",
      "Suits\n",
      "Parks and Recreation\n",
      "House of Cards\n",
      "Teen Wolf\n",
      "Pretty Little Liars\n",
      "The Legend of Korra\n",
      "The Wire\n",
      "Firefly\n",
      "Extant\n",
      "Black Sails\n",
      "Tyrant\n",
      "BoJack Horseman\n",
      "Salem\n",
      "TURN: Washington's Spies\n",
      "Intelligence\n",
      "Believe\n",
      "Star-Crossed\n",
      "Crisis\n",
      "Halt and Catch Fire\n",
      "Hello Ladies\n",
      "Dads\n",
      "Hannibal\n",
      "Bates Motel\n",
      "The Following\n",
      "Da Vinci's Demons\n",
      "The Fosters\n",
      "Mistresses\n",
      "The Tomorrow People\n",
      "Devious Maids\n",
      "Almost Human\n",
      "The Carrie Diaries\n",
      "Stargate SG-1\n",
      "Graceland\n",
      "Stargate Atlantis\n",
      "Stargate Universe\n",
      "The Chair\n",
      "Survivor's Remorse\n",
      "Doctor Who\n",
      "666 Park Avenue\n",
      "Alcatraz\n",
      "The Gates\n",
      "Kingdom\n",
      "American Dad!\n",
      "Rick and Morty\n",
      "Hostages\n",
      "Being Human\n",
      "Alphas\n",
      "Crossing Lines\n",
      "Rectify\n",
      "Happyland\n",
      "Twisted\n",
      "Ravenswood\n",
      "The Crazy Ones\n",
      "Mob City\n",
      "Last Resort\n",
      "The Neighbors\n",
      "Go On\n",
      "Vegas\n",
      "The River\n",
      "Awake\n",
      "Missing\n",
      "The New Normal\n",
      "GCB\n",
      "Revolution\n",
      "Dallas\n",
      "Anger Management\n",
      "Cops\n",
      "Benched\n",
      "The Great Fire\n",
      "Conan\n",
      "Strange Empire\n",
      "Town of the Living Dead\n",
      "Long Shadow\n",
      "The Colbert Report\n",
      "Transporter: The Series\n",
      "The Daily Show with Jon Stewart\n"
     ]
    }
   ],
   "source": [
    "# выводим на экран названия всех шоу\n",
    "for show in shows_list:\n",
    "    print(show['name'])"
   ]
  },
  {
   "cell_type": "code",
   "execution_count": 6,
   "id": "47c07358",
   "metadata": {},
   "outputs": [],
   "source": [
    "# создаем DataFrame на основании полученного списка\n",
    "df = pd.DataFrame(shows_list)"
   ]
  },
  {
   "cell_type": "code",
   "execution_count": 7,
   "id": "cf479554",
   "metadata": {},
   "outputs": [
    {
     "name": "stdout",
     "output_type": "stream",
     "text": [
      "<class 'pandas.core.frame.DataFrame'>\n",
      "RangeIndex: 240 entries, 0 to 239\n",
      "Data columns (total 23 columns):\n",
      " #   Column          Non-Null Count  Dtype  \n",
      "---  ------          --------------  -----  \n",
      " 0   id              240 non-null    int64  \n",
      " 1   url             240 non-null    object \n",
      " 2   name            240 non-null    object \n",
      " 3   type            240 non-null    object \n",
      " 4   language        240 non-null    object \n",
      " 5   genres          240 non-null    object \n",
      " 6   status          240 non-null    object \n",
      " 7   runtime         229 non-null    float64\n",
      " 8   averageRuntime  240 non-null    int64  \n",
      " 9   premiered       240 non-null    object \n",
      " 10  ended           218 non-null    object \n",
      " 11  officialSite    167 non-null    object \n",
      " 12  schedule        240 non-null    object \n",
      " 13  rating          240 non-null    object \n",
      " 14  weight          240 non-null    int64  \n",
      " 15  network         229 non-null    object \n",
      " 16  webChannel      14 non-null     object \n",
      " 17  dvdCountry      1 non-null      object \n",
      " 18  externals       240 non-null    object \n",
      " 19  image           240 non-null    object \n",
      " 20  summary         240 non-null    object \n",
      " 21  updated         240 non-null    int64  \n",
      " 22  _links          240 non-null    object \n",
      "dtypes: float64(1), int64(4), object(18)\n",
      "memory usage: 43.3+ KB\n"
     ]
    }
   ],
   "source": [
    "# выводим общую информацию о датафрейме\n",
    "df.info()"
   ]
  },
  {
   "cell_type": "code",
   "execution_count": 8,
   "id": "c5d92f78",
   "metadata": {},
   "outputs": [],
   "source": [
    "# создаем серию с годами выхода всех шоу\n",
    "years = pd.to_datetime(df['premiered'], errors='coerce').dt.year"
   ]
  },
  {
   "cell_type": "code",
   "execution_count": 9,
   "id": "db1099da",
   "metadata": {},
   "outputs": [
    {
     "data": {
      "image/png": "[encoded data removed]",
      "text/plain": [
       "<Figure size 640x480 with 1 Axes>"
      ]
     },
     "metadata": {},
     "output_type": "display_data"
    }
   ],
   "source": [
    "# строим гистограмму с распределением шоу по годам премьеры\n",
    "years.dropna().astype(int).plot.hist(\n",
    "    bins=range(int(years.min()), int(years.max()) + 2),\n",
    "    edgecolor='black'\n",
    ")\n",
    "plt.title('Распределение ТВ-шоу по годам премьеры')\n",
    "plt.xlabel('Год премьеры')\n",
    "plt.ylabel('Количество шоу')\n",
    "plt.show()"
   ]
  },
  {
   "cell_type": "markdown",
   "id": "6d98a5de",
   "metadata": {},
   "source": [
    "**Выводы по графику**:На гистограмме видно, что количество ТВ-шоу значительно увеличилось после 2010 года. Это свидетельствует о росте популярности и активном развитии индустрии сериалов в последние годы."
   ]
  },
  {
   "cell_type": "markdown",
   "id": "60d5248e",
   "metadata": {},
   "source": [
    "#### **Задание № 2**"
   ]
  },
  {
   "cell_type": "markdown",
   "id": "ef6ceb03",
   "metadata": {},
   "source": [
    "С помощью TVMaze API выгрузите все данные о шоу, где в названии есть слово \"друзья\" (friends). На основании полученных данных постройте Sunburst-диаграмму с иерархией Язык → Жанр → Название."
   ]
  },
  {
   "cell_type": "code",
   "execution_count": 31,
   "id": "dc3f9b80",
   "metadata": {},
   "outputs": [],
   "source": [
    "# подключаем Plotly для построения Sunburst-диаграммы\n",
    "import plotly.express as px\n",
    "import pandas as pd\n",
    "import requests"
   ]
  },
  {
   "cell_type": "code",
   "execution_count": 32,
   "id": "d92b2f55",
   "metadata": {},
   "outputs": [],
   "source": [
    "# URL для получения списка ТВ-шоу, где в названии есть слово \"друзья (friends)\"\n",
    "url = \"https://api.tvmaze.com/search/shows?q=friends\""
   ]
  },
  {
   "cell_type": "code",
   "execution_count": 33,
   "id": "14977f53",
   "metadata": {},
   "outputs": [],
   "source": [
    "# отправляем GET-запрос и получаем ответ в формате JSON\n",
    "response = requests.get(url)\n",
    "# преобразуем JSON в список\n",
    "shows_list = response.json()"
   ]
  },
  {
   "cell_type": "code",
   "execution_count": 34,
   "id": "81b22867",
   "metadata": {},
   "outputs": [
    {
     "name": "stdout",
     "output_type": "stream",
     "text": [
      "Количество выгруженных шоу: 10\n"
     ]
    }
   ],
   "source": [
    "# выводим на экран количество выгруженных шоу\n",
    "print(\"Количество выгруженных шоу:\", len(shows_list))"
   ]
  },
  {
   "cell_type": "code",
   "execution_count": 35,
   "id": "9f7420c8",
   "metadata": {},
   "outputs": [],
   "source": [
    "# создаем список с данными по каждому шоу\n",
    "shows_data = []\n",
    "for show in shows_list:\n",
    "    info = show['show']\n",
    "    shows_data.append({\n",
    "        'name': info['name'],\n",
    "        'language': info['language'],\n",
    "        'genres': info['genres'],\n",
    "    })"
   ]
  },
  {
   "cell_type": "code",
   "execution_count": 36,
   "id": "ee4a78b2",
   "metadata": {},
   "outputs": [],
   "source": [
    "# формируем DataFrame на основании списка с данными по каждому шоу\n",
    "df = pd.DataFrame(shows_data)"
   ]
  },
  {
   "cell_type": "code",
   "execution_count": 37,
   "id": "02fd2f1f",
   "metadata": {},
   "outputs": [],
   "source": [
    "# заполняем пропуски в столбце genres\n",
    "df['genres'] = df['genres'].apply(lambda x: x if x else ['Не указан'])"
   ]
  },
  {
   "cell_type": "code",
   "execution_count": null,
   "id": "8d6771b5",
   "metadata": {},
   "outputs": [],
   "source": [
    "# оставляем только один жанр для корректного построения Sunburst-диаграммы\n",
    "df_expanded = df.explode('genres')"
   ]
  },
  {
   "cell_type": "code",
   "execution_count": 41,
   "id": "cc3644b1",
   "metadata": {},
   "outputs": [
    {
     "data": {
      "application/vnd.plotly.v1+json": {
       "config": {
        "plotlyServerURL": "https://plot.ly"
       },
       "data": [
        {
         "branchvalues": "total",
         "domain": {
          "x": [
           0,
           1
          ],
          "y": [
           0,
           1
          ]
         },
         "hovertemplate": "labels=%{label}<br>count=%{value}<br>parent=%{parent}<br>id=%{id}<extra></extra>",
         "ids": [
          "English/Comedy/Friends",
          "English/Romance/Friends",
          "Korean/Не указан/Friends",
          "English/Drama/Friends",
          "Japanese/Drama/Friends",
          "Japanese/Romance/Friends",
          "English/Comedy/Smiling Friends",
          "Unknown/Не указан/Fast Friends",
          "Thai/Drama/Only Friends",
          "Thai/Romance/Only Friends",
          "English/Action/Super Friends",
          "English/Adventure/Super Friends",
          "English/Science-Fiction/Super Friends",
          "Japanese/Comedy/Kemono Friends",
          "Japanese/Adventure/Kemono Friends",
          "Japanese/Anime/Kemono Friends",
          "English/Не указан/Super Friends",
          "English/Comedy",
          "English/Romance",
          "Korean/Не указан",
          "English/Drama",
          "Japanese/Drama",
          "Japanese/Romance",
          "Unknown/Не указан",
          "Thai/Drama",
          "Thai/Romance",
          "English/Action",
          "English/Adventure",
          "English/Science-Fiction",
          "Japanese/Comedy",
          "Japanese/Adventure",
          "Japanese/Anime",
          "English/Не указан",
          "English",
          "Korean",
          "Japanese",
          "Unknown",
          "Thai"
         ],
         "labels": [
          "Friends",
          "Friends",
          "Friends",
          "Friends",
          "Friends",
          "Friends",
          "Smiling Friends",
          "Fast Friends",
          "Only Friends",
          "Only Friends",
          "Super Friends",
          "Super Friends",
          "Super Friends",
          "Kemono Friends",
          "Kemono Friends",
          "Kemono Friends",
          "Super Friends",
          "Comedy",
          "Romance",
          "Не указан",
          "Drama",
          "Drama",
          "Romance",
          "Не указан",
          "Drama",
          "Romance",
          "Action",
          "Adventure",
          "Science-Fiction",
          "Comedy",
          "Adventure",
          "Anime",
          "Не указан",
          "English",
          "Korean",
          "Japanese",
          "Unknown",
          "Thai"
         ],
         "name": "",
         "parents": [
          "English/Comedy",
          "English/Romance",
          "Korean/Не указан",
          "English/Drama",
          "Japanese/Drama",
          "Japanese/Romance",
          "English/Comedy",
          "Unknown/Не указан",
          "Thai/Drama",
          "Thai/Romance",
          "English/Action",
          "English/Adventure",
          "English/Science-Fiction",
          "Japanese/Comedy",
          "Japanese/Adventure",
          "Japanese/Anime",
          "English/Не указан",
          "English",
          "English",
          "Korean",
          "English",
          "Japanese",
          "Japanese",
          "Unknown",
          "Thai",
          "Thai",
          "English",
          "English",
          "English",
          "Japanese",
          "Japanese",
          "Japanese",
          "English",
          "",
          "",
          "",
          "",
          ""
         ],
         "type": "sunburst",
         "values": {
          "bdata": "AgEBAQEBAQEBAQEBAQEBAQEDAQEBAQEBAQEBAQEBAQEBCQEFAQI=",
          "dtype": "i1"
         }
        }
       ],
       "layout": {
        "legend": {
         "tracegroupgap": 0
        },
        "template": {
         "data": {
          "bar": [
           {
            "error_x": {
             "color": "#2a3f5f"
            },
            "error_y": {
             "color": "#2a3f5f"
            },
            "marker": {
             "line": {
              "color": "#E5ECF6",
              "width": 0.5
             },
             "pattern": {
              "fillmode": "overlay",
              "size": 10,
              "solidity": 0.2
             }
            },
            "type": "bar"
           }
          ],
          "barpolar": [
           {
            "marker": {
             "line": {
              "color": "#E5ECF6",
              "width": 0.5
             },
             "pattern": {
              "fillmode": "overlay",
              "size": 10,
              "solidity": 0.2
             }
            },
            "type": "barpolar"
           }
          ],
          "carpet": [
           {
            "aaxis": {
             "endlinecolor": "#2a3f5f",
             "gridcolor": "white",
             "linecolor": "white",
             "minorgridcolor": "white",
             "startlinecolor": "#2a3f5f"
            },
            "baxis": {
             "endlinecolor": "#2a3f5f",
             "gridcolor": "white",
             "linecolor": "white",
             "minorgridcolor": "white",
             "startlinecolor": "#2a3f5f"
            },
            "type": "carpet"
           }
          ],
          "choropleth": [
           {
            "colorbar": {
             "outlinewidth": 0,
             "ticks": ""
            },
            "type": "choropleth"
           }
          ],
          "contour": [
           {
            "colorbar": {
             "outlinewidth": 0,
             "ticks": ""
            },
            "colorscale": [
             [
              0,
              "#0d0887"
             ],
             [
              0.1111111111111111,
              "#46039f"
             ],
             [
              0.2222222222222222,
              "#7201a8"
             ],
             [
              0.3333333333333333,
              "#9c179e"
             ],
             [
              0.4444444444444444,
              "#bd3786"
             ],
             [
              0.5555555555555556,
              "#d8576b"
             ],
             [
              0.6666666666666666,
              "#ed7953"
             ],
             [
              0.7777777777777778,
              "#fb9f3a"
             ],
             [
              0.8888888888888888,
              "#fdca26"
             ],
             [
              1,
              "#f0f921"
             ]
            ],
            "type": "contour"
           }
          ],
          "contourcarpet": [
           {
            "colorbar": {
             "outlinewidth": 0,
             "ticks": ""
            },
            "type": "contourcarpet"
           }
          ],
          "heatmap": [
           {
            "colorbar": {
             "outlinewidth": 0,
             "ticks": ""
            },
            "colorscale": [
             [
              0,
              "#0d0887"
             ],
             [
              0.1111111111111111,
              "#46039f"
             ],
             [
              0.2222222222222222,
              "#7201a8"
             ],
             [
              0.3333333333333333,
              "#9c179e"
             ],
             [
              0.4444444444444444,
              "#bd3786"
             ],
             [
              0.5555555555555556,
              "#d8576b"
             ],
             [
              0.6666666666666666,
              "#ed7953"
             ],
             [
              0.7777777777777778,
              "#fb9f3a"
             ],
             [
              0.8888888888888888,
              "#fdca26"
             ],
             [
              1,
              "#f0f921"
             ]
            ],
            "type": "heatmap"
           }
          ],
          "histogram": [
           {
            "marker": {
             "pattern": {
              "fillmode": "overlay",
              "size": 10,
              "solidity": 0.2
             }
            },
            "type": "histogram"
           }
          ],
          "histogram2d": [
           {
            "colorbar": {
             "outlinewidth": 0,
             "ticks": ""
            },
            "colorscale": [
             [
              0,
              "#0d0887"
             ],
             [
              0.1111111111111111,
              "#46039f"
             ],
             [
              0.2222222222222222,
              "#7201a8"
             ],
             [
              0.3333333333333333,
              "#9c179e"
             ],
             [
              0.4444444444444444,
              "#bd3786"
             ],
             [
              0.5555555555555556,
              "#d8576b"
             ],
             [
              0.6666666666666666,
              "#ed7953"
             ],
             [
              0.7777777777777778,
              "#fb9f3a"
             ],
             [
              0.8888888888888888,
              "#fdca26"
             ],
             [
              1,
              "#f0f921"
             ]
            ],
            "type": "histogram2d"
           }
          ],
          "histogram2dcontour": [
           {
            "colorbar": {
             "outlinewidth": 0,
             "ticks": ""
            },
            "colorscale": [
             [
              0,
              "#0d0887"
             ],
             [
              0.1111111111111111,
              "#46039f"
             ],
             [
              0.2222222222222222,
              "#7201a8"
             ],
             [
              0.3333333333333333,
              "#9c179e"
             ],
             [
              0.4444444444444444,
              "#bd3786"
             ],
             [
              0.5555555555555556,
              "#d8576b"
             ],
             [
              0.6666666666666666,
              "#ed7953"
             ],
             [
              0.7777777777777778,
              "#fb9f3a"
             ],
             [
              0.8888888888888888,
              "#fdca26"
             ],
             [
              1,
              "#f0f921"
             ]
            ],
            "type": "histogram2dcontour"
           }
          ],
          "mesh3d": [
           {
            "colorbar": {
             "outlinewidth": 0,
             "ticks": ""
            },
            "type": "mesh3d"
           }
          ],
          "parcoords": [
           {
            "line": {
             "colorbar": {
              "outlinewidth": 0,
              "ticks": ""
             }
            },
            "type": "parcoords"
           }
          ],
          "pie": [
           {
            "automargin": true,
            "type": "pie"
           }
          ],
          "scatter": [
           {
            "fillpattern": {
             "fillmode": "overlay",
             "size": 10,
             "solidity": 0.2
            },
            "type": "scatter"
           }
          ],
          "scatter3d": [
           {
            "line": {
             "colorbar": {
              "outlinewidth": 0,
              "ticks": ""
             }
            },
            "marker": {
             "colorbar": {
              "outlinewidth": 0,
              "ticks": ""
             }
            },
            "type": "scatter3d"
           }
          ],
          "scattercarpet": [
           {
            "marker": {
             "colorbar": {
              "outlinewidth": 0,
              "ticks": ""
             }
            },
            "type": "scattercarpet"
           }
          ],
          "scattergeo": [
           {
            "marker": {
             "colorbar": {
              "outlinewidth": 0,
              "ticks": ""
             }
            },
            "type": "scattergeo"
           }
          ],
          "scattergl": [
           {
            "marker": {
             "colorbar": {
              "outlinewidth": 0,
              "ticks": ""
             }
            },
            "type": "scattergl"
           }
          ],
          "scattermap": [
           {
            "marker": {
             "colorbar": {
              "outlinewidth": 0,
              "ticks": ""
             }
            },
            "type": "scattermap"
           }
          ],
          "scattermapbox": [
           {
            "marker": {
             "colorbar": {
              "outlinewidth": 0,
              "ticks": ""
             }
            },
            "type": "scattermapbox"
           }
          ],
          "scatterpolar": [
           {
            "marker": {
             "colorbar": {
              "outlinewidth": 0,
              "ticks": ""
             }
            },
            "type": "scatterpolar"
           }
          ],
          "scatterpolargl": [
           {
            "marker": {
             "colorbar": {
              "outlinewidth": 0,
              "ticks": ""
             }
            },
            "type": "scatterpolargl"
           }
          ],
          "scatterternary": [
           {
            "marker": {
             "colorbar": {
              "outlinewidth": 0,
              "ticks": ""
             }
            },
            "type": "scatterternary"
           }
          ],
          "surface": [
           {
            "colorbar": {
             "outlinewidth": 0,
             "ticks": ""
            },
            "colorscale": [
             [
              0,
              "#0d0887"
             ],
             [
              0.1111111111111111,
              "#46039f"
             ],
             [
              0.2222222222222222,
              "#7201a8"
             ],
             [
              0.3333333333333333,
              "#9c179e"
             ],
             [
              0.4444444444444444,
              "#bd3786"
             ],
             [
              0.5555555555555556,
              "#d8576b"
             ],
             [
              0.6666666666666666,
              "#ed7953"
             ],
             [
              0.7777777777777778,
              "#fb9f3a"
             ],
             [
              0.8888888888888888,
              "#fdca26"
             ],
             [
              1,
              "#f0f921"
             ]
            ],
            "type": "surface"
           }
          ],
          "table": [
           {
            "cells": {
             "fill": {
              "color": "#EBF0F8"
             },
             "line": {
              "color": "white"
             }
            },
            "header": {
             "fill": {
              "color": "#C8D4E3"
             },
             "line": {
              "color": "white"
             }
            },
            "type": "table"
           }
          ]
         },
         "layout": {
          "annotationdefaults": {
           "arrowcolor": "#2a3f5f",
           "arrowhead": 0,
           "arrowwidth": 1
          },
          "autotypenumbers": "strict",
          "coloraxis": {
           "colorbar": {
            "outlinewidth": 0,
            "ticks": ""
           }
          },
          "colorscale": {
           "diverging": [
            [
             0,
             "#8e0152"
            ],
            [
             0.1,
             "#c51b7d"
            ],
            [
             0.2,
             "#de77ae"
            ],
            [
             0.3,
             "#f1b6da"
            ],
            [
             0.4,
             "#fde0ef"
            ],
            [
             0.5,
             "#f7f7f7"
            ],
            [
             0.6,
             "#e6f5d0"
            ],
            [
             0.7,
             "#b8e186"
            ],
            [
             0.8,
             "#7fbc41"
            ],
            [
             0.9,
             "#4d9221"
            ],
            [
             1,
             "#276419"
            ]
           ],
           "sequential": [
            [
             0,
             "#0d0887"
            ],
            [
             0.1111111111111111,
             "#46039f"
            ],
            [
             0.2222222222222222,
             "#7201a8"
            ],
            [
             0.3333333333333333,
             "#9c179e"
            ],
            [
             0.4444444444444444,
             "#bd3786"
            ],
            [
             0.5555555555555556,
             "#d8576b"
            ],
            [
             0.6666666666666666,
             "#ed7953"
            ],
            [
             0.7777777777777778,
             "#fb9f3a"
            ],
            [
             0.8888888888888888,
             "#fdca26"
            ],
            [
             1,
             "#f0f921"
            ]
           ],
           "sequentialminus": [
            [
             0,
             "#0d0887"
            ],
            [
             0.1111111111111111,
             "#46039f"
            ],
            [
             0.2222222222222222,
             "#7201a8"
            ],
            [
             0.3333333333333333,
             "#9c179e"
            ],
            [
             0.4444444444444444,
             "#bd3786"
            ],
            [
             0.5555555555555556,
             "#d8576b"
            ],
            [
             0.6666666666666666,
             "#ed7953"
            ],
            [
             0.7777777777777778,
             "#fb9f3a"
            ],
            [
             0.8888888888888888,
             "#fdca26"
            ],
            [
             1,
             "#f0f921"
            ]
           ]
          },
          "colorway": [
           "#636efa",
           "#EF553B",
           "#00cc96",
           "#ab63fa",
           "#FFA15A",
           "#19d3f3",
           "#FF6692",
           "#B6E880",
           "#FF97FF",
           "#FECB52"
          ],
          "font": {
           "color": "#2a3f5f"
          },
          "geo": {
           "bgcolor": "white",
           "lakecolor": "white",
           "landcolor": "#E5ECF6",
           "showlakes": true,
           "showland": true,
           "subunitcolor": "white"
          },
          "hoverlabel": {
           "align": "left"
          },
          "hovermode": "closest",
          "mapbox": {
           "style": "light"
          },
          "paper_bgcolor": "white",
          "plot_bgcolor": "#E5ECF6",
          "polar": {
           "angularaxis": {
            "gridcolor": "white",
            "linecolor": "white",
            "ticks": ""
           },
           "bgcolor": "#E5ECF6",
           "radialaxis": {
            "gridcolor": "white",
            "linecolor": "white",
            "ticks": ""
           }
          },
          "scene": {
           "xaxis": {
            "backgroundcolor": "#E5ECF6",
            "gridcolor": "white",
            "gridwidth": 2,
            "linecolor": "white",
            "showbackground": true,
            "ticks": "",
            "zerolinecolor": "white"
           },
           "yaxis": {
            "backgroundcolor": "#E5ECF6",
            "gridcolor": "white",
            "gridwidth": 2,
            "linecolor": "white",
            "showbackground": true,
            "ticks": "",
            "zerolinecolor": "white"
           },
           "zaxis": {
            "backgroundcolor": "#E5ECF6",
            "gridcolor": "white",
            "gridwidth": 2,
            "linecolor": "white",
            "showbackground": true,
            "ticks": "",
            "zerolinecolor": "white"
           }
          },
          "shapedefaults": {
           "line": {
            "color": "#2a3f5f"
           }
          },
          "ternary": {
           "aaxis": {
            "gridcolor": "white",
            "linecolor": "white",
            "ticks": ""
           },
           "baxis": {
            "gridcolor": "white",
            "linecolor": "white",
            "ticks": ""
           },
           "bgcolor": "#E5ECF6",
           "caxis": {
            "gridcolor": "white",
            "linecolor": "white",
            "ticks": ""
           }
          },
          "title": {
           "x": 0.05
          },
          "xaxis": {
           "automargin": true,
           "gridcolor": "white",
           "linecolor": "white",
           "ticks": "",
           "title": {
            "standoff": 15
           },
           "zerolinecolor": "white",
           "zerolinewidth": 2
          },
          "yaxis": {
           "automargin": true,
           "gridcolor": "white",
           "linecolor": "white",
           "ticks": "",
           "title": {
            "standoff": 15
           },
           "zerolinecolor": "white",
           "zerolinewidth": 2
          }
         }
        },
        "title": {
         "text": "Sunburst-диаграмма для шоу с 'friends' в названии"
        }
       }
      }
     },
     "metadata": {},
     "output_type": "display_data"
    }
   ],
   "source": [
    "# строим Sunbursts-диаграмму\n",
    "for col in ['language', 'genres', 'name']:\n",
    "    df_expanded[col] = df_expanded[col].fillna('Unknown')\n",
    "    df_expanded[col] = df_expanded[col].replace('', 'Unknown')\n",
    "fig = px.sunburst(\n",
    "    df_expanded,\n",
    "    path=['language', 'genres', 'name'],\n",
    "    title=\"Sunburst-диаграмма для шоу с 'friends' в названии\"\n",
    ")\n",
    "fig.show()"
   ]
  },
  {
   "cell_type": "markdown",
   "id": "1061a923",
   "metadata": {},
   "source": [
    "#### **Задание № 3**"
   ]
  },
  {
   "cell_type": "markdown",
   "id": "99c7aded",
   "metadata": {},
   "source": [
    "С помощью TVMaze API выгрузите данные о всех эпизодах сериала \"Сверхъестественное\", который выходил с 2005 по 2020 гг. Найдите серии с минимальным и максимальным средними рейтингами, а также постройте столбчатую диаграмму со средними рейтингами каждого сезона. Проанализируйте полученный график и сделайте выводы."
   ]
  },
  {
   "cell_type": "code",
   "execution_count": 16,
   "id": "e2e119f1",
   "metadata": {},
   "outputs": [],
   "source": [
    "# URL для получения списка ТВ-шоу, где в названии есть слово \"сверхъестественное (supernatural)\"\n",
    "url_show = \"https://api.tvmaze.com/search/shows?q=supernatural\""
   ]
  },
  {
   "cell_type": "code",
   "execution_count": 17,
   "id": "e8187f51",
   "metadata": {},
   "outputs": [],
   "source": [
    "# отправляем GET-запрос и получаем ответ в формате JSON\n",
    "response = requests.get(url_show)\n",
    "# преобразуем JSON в список\n",
    "shows_list = response.json()"
   ]
  },
  {
   "cell_type": "code",
   "execution_count": 18,
   "id": "fb996f4f",
   "metadata": {},
   "outputs": [
    {
     "name": "stdout",
     "output_type": "stream",
     "text": [
      "19\n"
     ]
    }
   ],
   "source": [
    "# сохраняем id сериала \"Сверхъестественное\"\n",
    "show_id = shows_list[0]['show']['id']\n",
    "print(show_id)"
   ]
  },
  {
   "cell_type": "code",
   "execution_count": 19,
   "id": "b8a70f72",
   "metadata": {},
   "outputs": [],
   "source": [
    "# URL для получения списка эпизодов сериала \"Сверхъестественное\"\n",
    "url_episodes = f\"https://api.tvmaze.com/shows/{show_id}/episodes\""
   ]
  },
  {
   "cell_type": "code",
   "execution_count": 20,
   "id": "2ae295d1",
   "metadata": {},
   "outputs": [],
   "source": [
    "# отправляем GET-запрос и получаем ответ в формате JSON\n",
    "response = requests.get(url_episodes)\n",
    "# преобразуем JSON в список\n",
    "episodes_list = response.json()"
   ]
  },
  {
   "cell_type": "code",
   "execution_count": 21,
   "id": "1efa03fb",
   "metadata": {},
   "outputs": [],
   "source": [
    "# формируем DataFrame на основании списка с данными по каждой серии\n",
    "df = pd.DataFrame(episodes_list)"
   ]
  },
  {
   "cell_type": "code",
   "execution_count": 22,
   "id": "e4f0482a",
   "metadata": {},
   "outputs": [
    {
     "name": "stdout",
     "output_type": "stream",
     "text": [
      "Минимальный рейтинг: 6.3\n",
      "Сезон: 10 Эпизод: 4 Paper Moon\n"
     ]
    }
   ],
   "source": [
    "# находим данные о серии с минимальным рейтингом\n",
    "min_rating_row = df.loc[df['rating'].apply(lambda x: x['average']).idxmin()]\n",
    "print(\"Минимальный рейтинг:\", min_rating_row['rating']['average'])\n",
    "print(\"Сезон:\", min_rating_row['season'], \"Эпизод:\", min_rating_row['number'], min_rating_row['name'])"
   ]
  },
  {
   "cell_type": "code",
   "execution_count": 23,
   "id": "3b1b3342",
   "metadata": {},
   "outputs": [
    {
     "name": "stdout",
     "output_type": "stream",
     "text": [
      "Максимальный рейтинг: 9.3\n",
      "Сезон: 2 Эпизод: 22 All Hell Breaks Loose (2)\n"
     ]
    }
   ],
   "source": [
    "# находим данные о серии с максимальным рейтингом\n",
    "max_rating_row = df.loc[df['rating'].apply(lambda x: x['average']).idxmax()]\n",
    "print(\"Максимальный рейтинг:\", max_rating_row['rating']['average'])\n",
    "print(\"Сезон:\", max_rating_row['season'], \"Эпизод:\", max_rating_row['number'], max_rating_row['name'])"
   ]
  },
  {
   "cell_type": "code",
   "execution_count": 24,
   "id": "35514e68",
   "metadata": {},
   "outputs": [],
   "source": [
    "# группируем данные и вычисляем средний рейтинг для каждого сезона\n",
    "df['avg_rating'] = df['rating'].apply(lambda x: x['average'])\n",
    "season_avg = df.groupby('season')['avg_rating'].mean()"
   ]
  },
  {
   "cell_type": "code",
   "execution_count": 25,
   "id": "e18f1b80",
   "metadata": {},
   "outputs": [
    {
     "data": {
      "image/png": "[encoded data removed]",
      "text/plain": [
       "<Figure size 640x480 with 1 Axes>"
      ]
     },
     "metadata": {},
     "output_type": "display_data"
    }
   ],
   "source": [
    "# строим столбчатую диаграмму рейтинга сезонов сериала \"Сверхъестественное\"\n",
    "season_avg.plot(kind='bar', edgecolor='black')\n",
    "plt.title('Средний рейтинг сезонов сериала \"Сверхъестественное\"')\n",
    "plt.xlabel('Сезон')\n",
    "plt.ylabel('Средний рейтинг')\n",
    "plt.show()"
   ]
  },
  {
   "cell_type": "markdown",
   "id": "544470ac",
   "metadata": {},
   "source": [
    "**Выводы по графику**:На графике видно, что средние рейтинги сезонов «Сверхъестественного» были наиболее высокими в первые годы сериала, особенно во 2 и 3 сезонах. Начиная с 6 сезона отмечается постепенное снижение рейтингов, что может указывать на спад интереса аудитории или изменение качества сюжета. Однако последние сезоны показывают небольшой рост, что может быть связано с возвращением интереса зрителей к финалу сериала."
   ]
  },
  {
   "cell_type": "markdown",
   "id": "194c7c44",
   "metadata": {},
   "source": [
    "### **Работа с GitHub API через GraphQL**"
   ]
  },
  {
   "cell_type": "markdown",
   "id": "90b86309",
   "metadata": {},
   "source": [
    "https://api.github.com/graphql - базовый адрес для GraphQL-запросов к GitHub\n",
    "\n",
    "https://docs.github.com/ru/graphql - документация GitHub GraphQL API"
   ]
  },
  {
   "cell_type": "markdown",
   "id": "d0b1c7c7",
   "metadata": {},
   "source": [
    "#### **Задание 4**"
   ]
  },
  {
   "cell_type": "markdown",
   "id": "65eaff46",
   "metadata": {},
   "source": [
    "С помощью GitHub API через GraphQL выгрузите данные о следующих репозиториях:\n",
    "Автор | Название репозитория\n",
    "------|---------------------\n",
    "pallets | flask\n",
    "django | django\n",
    "numpy | numpy\n",
    "pandas-dev | pandas\n",
    "tiangolo | fastapi\n",
    "\n",
    "На основании выгруженных данных постройте столбчатую диаграмму, отображающую количество звезд для указанных репозиториев."
   ]
  },
  {
   "cell_type": "code",
   "execution_count": null,
   "id": "98d143e7",
   "metadata": {},
   "outputs": [],
   "source": [
    "# персональный токен GitHub\n",
    "GITHUB_TOKEN = ''"
   ]
  },
  {
   "cell_type": "code",
   "execution_count": 13,
   "id": "db905248",
   "metadata": {},
   "outputs": [],
   "source": [
    "# базовый адрес для GraphQL-запросов к GitHub\n",
    "GITHUB_API_URL = \"https://api.github.com/graphql\""
   ]
  },
  {
   "cell_type": "markdown",
   "id": "76bab3c3",
   "metadata": {},
   "source": [
    "**Bearer** - это тип токена, который указывает, что доступ к ресурсу предоставляется по персональному токеном. Является обязательным механизмом при работе с GitHub API через GraphQL. "
   ]
  },
  {
   "cell_type": "code",
   "execution_count": 14,
   "id": "5c1da1e2",
   "metadata": {},
   "outputs": [],
   "source": [
    "headers = {\"Authorization\": f\"bearer {GITHUB_TOKEN}\"}"
   ]
  },
  {
   "cell_type": "code",
   "execution_count": 15,
   "id": "a94e550f",
   "metadata": {},
   "outputs": [],
   "source": [
    "# список кортежей (владелец, имя репозитория), для которых нужно получить число звезд\n",
    "repos = [\n",
    "    ('pallets', 'flask'),\n",
    "    ('django', 'django'),\n",
    "    ('numpy', 'numpy'),\n",
    "    ('pandas-dev', 'pandas'),\n",
    "    ('tiangolo', 'fastapi')\n",
    "]"
   ]
  },
  {
   "cell_type": "code",
   "execution_count": 16,
   "id": "068415a6",
   "metadata": {},
   "outputs": [],
   "source": [
    "# шаблон запроса GraphQL, в который подставляются owner (владелец) и name (название) каждого репозитория\n",
    "query_template = \"\"\"\n",
    "query($owner: String!, $name: String!) {\n",
    "  repository(owner: $owner, name: $name) {\n",
    "    name\n",
    "    owner { login }\n",
    "    stargazerCount\n",
    "  }\n",
    "}\n",
    "\"\"\""
   ]
  },
  {
   "cell_type": "code",
   "execution_count": 22,
   "id": "5833d581",
   "metadata": {},
   "outputs": [
    {
     "name": "stdout",
     "output_type": "stream",
     "text": [
      "pallets/flask: {'data': {'repository': {'name': 'flask', 'owner': {'login': 'pallets'}, 'stargazerCount': 69719}}}\n",
      "django/django: {'data': {'repository': {'name': 'django', 'owner': {'login': 'django'}, 'stargazerCount': 83865}}}\n",
      "numpy/numpy: {'data': {'repository': {'name': 'numpy', 'owner': {'login': 'numpy'}, 'stargazerCount': 29664}}}\n",
      "pandas-dev/pandas: {'data': {'repository': {'name': 'pandas', 'owner': {'login': 'pandas-dev'}, 'stargazerCount': 45675}}}\n",
      "tiangolo/fastapi: {'data': {'repository': {'name': 'fastapi', 'owner': {'login': 'fastapi'}, 'stargazerCount': 86137}}}\n"
     ]
    }
   ],
   "source": [
    "import requests\n",
    "# список для хранения данных о репозиториях\n",
    "data = []\n",
    "# перебираем репозитории вместе с именами владельцев\n",
    "for owner, name in repos:\n",
    "    # подставляем имена владельцев и названия репозиториев в шаблон\n",
    "    variables = {\"owner\": owner, \"name\": name}\n",
    "    # отправляем POST-запрос\n",
    "    response = requests.post(\n",
    "        GITHUB_API_URL,\n",
    "        json={\"query\": query_template, \"variables\": variables},\n",
    "        headers=headers\n",
    "    )\n",
    "    result = response.json()\n",
    "    print(f\"{owner}/{name}: {result}\")  # <- Вот это обязательно!\n",
    "\n",
    "    if 'errors' in result:\n",
    "        print(f\"Ошибка для {owner}/{name}: {result['errors']}\")\n",
    "        continue\n",
    "    # извлекем из полученного ответа информацию о репозитории\n",
    "    repo = response.json()[\"data\"][\"repository\"]\n",
    "    # добавляем в список словарь с именем репозитория и количеством звезд\n",
    "    data.append({\"repo\": repo[\"name\"], \"stars\": repo[\"stargazerCount\"]})"
   ]
  },
  {
   "cell_type": "code",
   "execution_count": 23,
   "id": "7678f782",
   "metadata": {},
   "outputs": [
    {
     "name": "stdout",
     "output_type": "stream",
     "text": [
      "      repo  stars\n",
      "0    flask  69719\n",
      "1   django  83865\n",
      "2    numpy  29664\n",
      "3   pandas  45675\n",
      "4  fastapi  86137\n"
     ]
    }
   ],
   "source": [
    "# формируем DataFrame на основании списка с данными о репозиториях\n",
    "import pandas as pd\n",
    "df = pd.DataFrame(data)\n",
    "print(df)"
   ]
  },
  {
   "cell_type": "code",
   "execution_count": 24,
   "id": "6a92b3c8",
   "metadata": {},
   "outputs": [
    {
     "data": {
      "image/png": "[encoded data removed]",
      "text/plain": [
       "<Figure size 640x480 with 1 Axes>"
      ]
     },
     "metadata": {},
     "output_type": "display_data"
    }
   ],
   "source": [
    "# строим столбчатую диаграмму для отображения количества звезд популярных репозиториев GitHub\n",
    "import matplotlib.pyplot as plt\n",
    "\n",
    "df.set_index('repo')['stars'].plot(kind='bar', edgecolor='black')\n",
    "plt.title('Количество звезд у популярных Python-репозиториев')\n",
    "plt.xlabel('Репозиторий')\n",
    "plt.ylabel('Звезды')\n",
    "plt.show()"
   ]
  },
  {
   "cell_type": "markdown",
   "id": "a17efcf7",
   "metadata": {},
   "source": [
    "#### **Задание № 5**"
   ]
  },
  {
   "cell_type": "markdown",
   "id": "bcfe70d4",
   "metadata": {},
   "source": [
    "С помощью GitHub API через GraphQL для репозитория vscode (автор microsoft) выгрузите последние 100 опубликованных issues. Постройте линейный график, отображающий количества созданных issues по часам. Проанализируйте полученный график и сделайте выводы."
   ]
  },
  {
   "cell_type": "markdown",
   "id": "4e5f095f",
   "metadata": {},
   "source": [
    "**issues** - встроенная система обсуждений, задач и отслеживания ошибок в репозиториях GitHub"
   ]
  },
  {
   "cell_type": "code",
   "execution_count": 25,
   "id": "3ce25988",
   "metadata": {},
   "outputs": [],
   "source": [
    "# запрос на получение последних 100 issues из репозитория vscode, которым владеет microsoft\n",
    "query = \"\"\"\n",
    "{\n",
    "  repository(owner: \"microsoft\", name: \"vscode\") {\n",
    "    issues(last: 100, states: OPEN) {\n",
    "      nodes {\n",
    "        title\n",
    "        createdAt\n",
    "        number\n",
    "      }\n",
    "    }\n",
    "  }\n",
    "}\n",
    "\"\"\""
   ]
  },
  {
   "cell_type": "code",
   "execution_count": 26,
   "id": "11c97807",
   "metadata": {},
   "outputs": [],
   "source": [
    "# отправляем POST-запрос\n",
    "response = requests.post(\n",
    "    GITHUB_API_URL,\n",
    "    json={\"query\": query},\n",
    "    headers=headers\n",
    ")\n",
    "# извлекаем из полученного ответа информацию о созданных issues\n",
    "issues = response.json()[\"data\"][\"repository\"][\"issues\"][\"nodes\"]"
   ]
  },
  {
   "cell_type": "code",
   "execution_count": 27,
   "id": "0353fc36",
   "metadata": {},
   "outputs": [],
   "source": [
    "# преобразуем полученный список в датафрейм\n",
    "import pandas as pd\n",
    "df = pd.DataFrame(issues)"
   ]
  },
  {
   "cell_type": "code",
   "execution_count": 28,
   "id": "f00c6eae",
   "metadata": {},
   "outputs": [],
   "source": [
    "# преобразуем столбец createdAt в формат datetime\n",
    "df['createdAt'] = pd.to_datetime(df['createdAt'])\n",
    "# создаем столбец с часами, округляя вниз\n",
    "df['hour'] = df['createdAt'].dt.hour"
   ]
  },
  {
   "cell_type": "code",
   "execution_count": 29,
   "id": "820f6027",
   "metadata": {},
   "outputs": [],
   "source": [
    "# группируем данные и подсчитываем количество issues для каждого часа\n",
    "issues_by_hour = df.groupby('hour').size()"
   ]
  },
  {
   "cell_type": "code",
   "execution_count": 30,
   "id": "6a3f85e7",
   "metadata": {},
   "outputs": [
    {
     "data": {
      "image/png": "[encoded data removed]",
      "text/plain": [
       "<Figure size 640x480 with 1 Axes>"
      ]
     },
     "metadata": {},
     "output_type": "display_data"
    }
   ],
   "source": [
    "# строим линейный график для отображения количества созданных issues по часам в репозитории vscode\n",
    "import matplotlib.pyplot as plt\n",
    "issues_by_hour.plot(kind='line', marker='o')\n",
    "plt.title('Распределение количества issues по часам (vscode)')\n",
    "plt.xlabel('Час создания (UTC)')\n",
    "plt.ylabel('Количество issues')\n",
    "plt.grid(True)\n",
    "plt.show()"
   ]
  },
  {
   "cell_type": "markdown",
   "id": "3bcfa775",
   "metadata": {},
   "source": [
    "**Выводы по графику**:На графике видно, что новые issues создаются практически в течение всех часов суток, однако пики обращаемости пользователей приходятся на определённые часы. Это может быть связано с часовыми поясами, а также с активностью основной аудитории проекта."
   ]
  }
 ],
 "metadata": {
  "kernelspec": {
   "display_name": "Python 3",
   "language": "python",
   "name": "python3"
  },
  "language_info": {
   "codemirror_mode": {
    "name": "ipython",
    "version": 3
   },
   "file_extension": ".py",
   "mimetype": "text/x-python",
   "name": "python",
   "nbconvert_exporter": "python",
   "pygments_lexer": "ipython3",
   "version": "3.13.3"
  }
 },
 "nbformat": 4,
 "nbformat_minor": 5
}
